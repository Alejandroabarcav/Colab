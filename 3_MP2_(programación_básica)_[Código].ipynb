{
  "nbformat": 4,
  "nbformat_minor": 0,
  "metadata": {
    "colab": {
      "provenance": []
    },
    "kernelspec": {
      "name": "python3",
      "display_name": "Python 3"
    },
    "language_info": {
      "name": "python"
    }
  },
  "cells": [
    {
      "cell_type": "markdown",
      "source": [
        "# Ayudantía 2 - Visualizaciones con [Pandas](https://pandas.pydata.org/), [Matplotlib](https://matplotlib.org/) y [Seaborn](https://seaborn.pydata.org/)\n",
        "\n",
        "En la siguiente ayudantía repasaremos una serie de visualizaciones vistas durante el módulo 3 y 4 del curso de Visualización de información en la era de Big Data.\n",
        "\n",
        "### ¿Qué veremos en esta ayudantía?\n",
        "\n",
        "- Repasaremos la librería pandas para procesar un dataset.\n",
        "- Repasaremos gráficos claves para realizar el mini-proyecto 2.\n",
        "- Hablaremos sobre los _warnings_ que salían en el código entregado y cómo solucionarlo.\n",
        "- Repasaremos unos conceptos claves para el gráfico de violin.\n",
        "- Repasaremos el comando `subplots` para hacer varios gráficos en una visualización."
      ],
      "metadata": {
        "id": "Dx0c3_C37Bx6"
      }
    },
    {
      "cell_type": "markdown",
      "source": [
        "# Pasos previos\n",
        "\n",
        "1. Vamos a importar las 3 librerías principales del curso: Pandas, Seaborn y Matplotlib y les vamos a poner un nombre más corto con el comando `as`.\n",
        "\n",
        "2. Vamos a dejar una configuración para que los gráficos sean más grandes. Para esto se ocupa `plt.rcParams['figure.figsize']` y se entrega una tupla con el formato (ancho, largo) medido **en pulgadas**."
      ],
      "metadata": {
        "id": "A5Ul5_u07L3v"
      }
    },
    {
      "cell_type": "code",
      "execution_count": null,
      "metadata": {
        "id": "-JyWc__EgTrG"
      },
      "outputs": [],
      "source": [
        "import pandas as pd\n",
        "import seaborn as sns\n",
        "import matplotlib.pyplot as plt\n",
        "\n",
        "# Ancho = 12 pulgadas\n",
        "# Largo = 6 pulgadas\n",
        "plt.rcParams['figure.figsize'] = (12, 6)"
      ]
    },
    {
      "cell_type": "markdown",
      "source": [
        "## Uso de pandas\n",
        "\n",
        "Ahora, vamos a cargar el dataset que ocuparemos en la ayudantía con la librería `pandas` y luego usaremos algunas funciones claves de ella para trabajar el dataset."
      ],
      "metadata": {
        "id": "dxZJizhG7RzQ"
      }
    },
    {
      "cell_type": "code",
      "source": [
        "# Utilizar la función read_csv para cargar el archivo\n",
        "df = pd.read_csv(\"computer_book.csv\")"
      ],
      "metadata": {
        "id": "hC1aYPGA7POz"
      },
      "execution_count": null,
      "outputs": []
    },
    {
      "cell_type": "markdown",
      "source": [
        "Podemos usar `shape` para saber las dimensiones del dataset (número de filas, número de columnas)."
      ],
      "metadata": {
        "id": "uECTZj_m7pil"
      }
    },
    {
      "cell_type": "code",
      "source": [
        "df.shape"
      ],
      "metadata": {
        "colab": {
          "base_uri": "https://localhost:8080/"
        },
        "id": "4u1mGNSK7muc",
        "outputId": "3adf271e-e45b-4126-bcb4-4ae025040f3d"
      },
      "execution_count": null,
      "outputs": [
        {
          "output_type": "execute_result",
          "data": {
            "text/plain": [
              "(271, 7)"
            ]
          },
          "metadata": {},
          "execution_count": 3
        }
      ]
    },
    {
      "cell_type": "markdown",
      "source": [
        "Para ver parte del dataset utilizaremos `head`, `tail` e `iloc`."
      ],
      "metadata": {
        "id": "yi4e84r57rhM"
      }
    },
    {
      "cell_type": "code",
      "source": [
        "# Ver las primeras 5 líneas del archivo\n",
        "df.head(5)"
      ],
      "metadata": {
        "colab": {
          "base_uri": "https://localhost:8080/",
          "height": 206
        },
        "id": "64KLzpSX7qsF",
        "outputId": "e8d7cb1c-8f9a-445d-9812-d91532d92114"
      },
      "execution_count": null,
      "outputs": [
        {
          "output_type": "execute_result",
          "data": {
            "text/plain": [
              "   Rating  Reviews                                         Book_title  \\\n",
              "0    4.17     3829                              The Elements of Style   \n",
              "1    4.01     1406      The Information: A History, a Theory, a Flood   \n",
              "2    3.33        0       Responsive Web Design Overview For Beginners   \n",
              "3    3.97     1658  Ghost in the Wires: My Adventures as the World...   \n",
              "4    4.06     1325                                   How Google Works   \n",
              "\n",
              "                                         Description  Number_Of_Pages  \\\n",
              "0  This style manual offers practical advice on i...              105   \n",
              "1  James Gleick, the author of the best sellers C...              527   \n",
              "2  In Responsive Web Design Overview For Beginner...               50   \n",
              "3  If they were a hall of fame or shame for compu...              393   \n",
              "4  Both Eric Schmidt and Jonathan Rosenberg came ...              305   \n",
              "\n",
              "             Type      Price  \n",
              "0       Hardcover   9.323529  \n",
              "1       Hardcover  11.000000  \n",
              "2  Kindle Edition  11.267647  \n",
              "3       Hardcover  12.873529  \n",
              "4  Kindle Edition  13.164706  "
            ],
            "text/html": [
              "\n",
              "\n",
              "  <div id=\"df-8a811562-c0d8-4c9d-8f06-e580e0539419\">\n",
              "    <div class=\"colab-df-container\">\n",
              "      <div>\n",
              "<style scoped>\n",
              "    .dataframe tbody tr th:only-of-type {\n",
              "        vertical-align: middle;\n",
              "    }\n",
              "\n",
              "    .dataframe tbody tr th {\n",
              "        vertical-align: top;\n",
              "    }\n",
              "\n",
              "    .dataframe thead th {\n",
              "        text-align: right;\n",
              "    }\n",
              "</style>\n",
              "<table border=\"1\" class=\"dataframe\">\n",
              "  <thead>\n",
              "    <tr style=\"text-align: right;\">\n",
              "      <th></th>\n",
              "      <th>Rating</th>\n",
              "      <th>Reviews</th>\n",
              "      <th>Book_title</th>\n",
              "      <th>Description</th>\n",
              "      <th>Number_Of_Pages</th>\n",
              "      <th>Type</th>\n",
              "      <th>Price</th>\n",
              "    </tr>\n",
              "  </thead>\n",
              "  <tbody>\n",
              "    <tr>\n",
              "      <th>0</th>\n",
              "      <td>4.17</td>\n",
              "      <td>3829</td>\n",
              "      <td>The Elements of Style</td>\n",
              "      <td>This style manual offers practical advice on i...</td>\n",
              "      <td>105</td>\n",
              "      <td>Hardcover</td>\n",
              "      <td>9.323529</td>\n",
              "    </tr>\n",
              "    <tr>\n",
              "      <th>1</th>\n",
              "      <td>4.01</td>\n",
              "      <td>1406</td>\n",
              "      <td>The Information: A History, a Theory, a Flood</td>\n",
              "      <td>James Gleick, the author of the best sellers C...</td>\n",
              "      <td>527</td>\n",
              "      <td>Hardcover</td>\n",
              "      <td>11.000000</td>\n",
              "    </tr>\n",
              "    <tr>\n",
              "      <th>2</th>\n",
              "      <td>3.33</td>\n",
              "      <td>0</td>\n",
              "      <td>Responsive Web Design Overview For Beginners</td>\n",
              "      <td>In Responsive Web Design Overview For Beginner...</td>\n",
              "      <td>50</td>\n",
              "      <td>Kindle Edition</td>\n",
              "      <td>11.267647</td>\n",
              "    </tr>\n",
              "    <tr>\n",
              "      <th>3</th>\n",
              "      <td>3.97</td>\n",
              "      <td>1658</td>\n",
              "      <td>Ghost in the Wires: My Adventures as the World...</td>\n",
              "      <td>If they were a hall of fame or shame for compu...</td>\n",
              "      <td>393</td>\n",
              "      <td>Hardcover</td>\n",
              "      <td>12.873529</td>\n",
              "    </tr>\n",
              "    <tr>\n",
              "      <th>4</th>\n",
              "      <td>4.06</td>\n",
              "      <td>1325</td>\n",
              "      <td>How Google Works</td>\n",
              "      <td>Both Eric Schmidt and Jonathan Rosenberg came ...</td>\n",
              "      <td>305</td>\n",
              "      <td>Kindle Edition</td>\n",
              "      <td>13.164706</td>\n",
              "    </tr>\n",
              "  </tbody>\n",
              "</table>\n",
              "</div>\n",
              "      <button class=\"colab-df-convert\" onclick=\"convertToInteractive('df-8a811562-c0d8-4c9d-8f06-e580e0539419')\"\n",
              "              title=\"Convert this dataframe to an interactive table.\"\n",
              "              style=\"display:none;\">\n",
              "\n",
              "  <svg xmlns=\"http://www.w3.org/2000/svg\" height=\"24px\"viewBox=\"0 0 24 24\"\n",
              "       width=\"24px\">\n",
              "    <path d=\"M0 0h24v24H0V0z\" fill=\"none\"/>\n",
              "    <path d=\"M18.56 5.44l.94 2.06.94-2.06 2.06-.94-2.06-.94-.94-2.06-.94 2.06-2.06.94zm-11 1L8.5 8.5l.94-2.06 2.06-.94-2.06-.94L8.5 2.5l-.94 2.06-2.06.94zm10 10l.94 2.06.94-2.06 2.06-.94-2.06-.94-.94-2.06-.94 2.06-2.06.94z\"/><path d=\"M17.41 7.96l-1.37-1.37c-.4-.4-.92-.59-1.43-.59-.52 0-1.04.2-1.43.59L10.3 9.45l-7.72 7.72c-.78.78-.78 2.05 0 2.83L4 21.41c.39.39.9.59 1.41.59.51 0 1.02-.2 1.41-.59l7.78-7.78 2.81-2.81c.8-.78.8-2.07 0-2.86zM5.41 20L4 18.59l7.72-7.72 1.47 1.35L5.41 20z\"/>\n",
              "  </svg>\n",
              "      </button>\n",
              "\n",
              "\n",
              "\n",
              "    <div id=\"df-3365f37d-2241-43c3-bc82-932c7f62808f\">\n",
              "      <button class=\"colab-df-quickchart\" onclick=\"quickchart('df-3365f37d-2241-43c3-bc82-932c7f62808f')\"\n",
              "              title=\"Suggest charts.\"\n",
              "              style=\"display:none;\">\n",
              "\n",
              "<svg xmlns=\"http://www.w3.org/2000/svg\" height=\"24px\"viewBox=\"0 0 24 24\"\n",
              "     width=\"24px\">\n",
              "    <g>\n",
              "        <path d=\"M19 3H5c-1.1 0-2 .9-2 2v14c0 1.1.9 2 2 2h14c1.1 0 2-.9 2-2V5c0-1.1-.9-2-2-2zM9 17H7v-7h2v7zm4 0h-2V7h2v10zm4 0h-2v-4h2v4z\"/>\n",
              "    </g>\n",
              "</svg>\n",
              "      </button>\n",
              "    </div>\n",
              "\n",
              "<style>\n",
              "  .colab-df-quickchart {\n",
              "    background-color: #E8F0FE;\n",
              "    border: none;\n",
              "    border-radius: 50%;\n",
              "    cursor: pointer;\n",
              "    display: none;\n",
              "    fill: #1967D2;\n",
              "    height: 32px;\n",
              "    padding: 0 0 0 0;\n",
              "    width: 32px;\n",
              "  }\n",
              "\n",
              "  .colab-df-quickchart:hover {\n",
              "    background-color: #E2EBFA;\n",
              "    box-shadow: 0px 1px 2px rgba(60, 64, 67, 0.3), 0px 1px 3px 1px rgba(60, 64, 67, 0.15);\n",
              "    fill: #174EA6;\n",
              "  }\n",
              "\n",
              "  [theme=dark] .colab-df-quickchart {\n",
              "    background-color: #3B4455;\n",
              "    fill: #D2E3FC;\n",
              "  }\n",
              "\n",
              "  [theme=dark] .colab-df-quickchart:hover {\n",
              "    background-color: #434B5C;\n",
              "    box-shadow: 0px 1px 3px 1px rgba(0, 0, 0, 0.15);\n",
              "    filter: drop-shadow(0px 1px 2px rgba(0, 0, 0, 0.3));\n",
              "    fill: #FFFFFF;\n",
              "  }\n",
              "</style>\n",
              "\n",
              "    <script>\n",
              "      async function quickchart(key) {\n",
              "        const containerElement = document.querySelector('#' + key);\n",
              "        const charts = await google.colab.kernel.invokeFunction(\n",
              "            'suggestCharts', [key], {});\n",
              "      }\n",
              "    </script>\n",
              "\n",
              "      <script>\n",
              "\n",
              "function displayQuickchartButton(domScope) {\n",
              "  let quickchartButtonEl =\n",
              "    domScope.querySelector('#df-3365f37d-2241-43c3-bc82-932c7f62808f button.colab-df-quickchart');\n",
              "  quickchartButtonEl.style.display =\n",
              "    google.colab.kernel.accessAllowed ? 'block' : 'none';\n",
              "}\n",
              "\n",
              "        displayQuickchartButton(document);\n",
              "      </script>\n",
              "      <style>\n",
              "    .colab-df-container {\n",
              "      display:flex;\n",
              "      flex-wrap:wrap;\n",
              "      gap: 12px;\n",
              "    }\n",
              "\n",
              "    .colab-df-convert {\n",
              "      background-color: #E8F0FE;\n",
              "      border: none;\n",
              "      border-radius: 50%;\n",
              "      cursor: pointer;\n",
              "      display: none;\n",
              "      fill: #1967D2;\n",
              "      height: 32px;\n",
              "      padding: 0 0 0 0;\n",
              "      width: 32px;\n",
              "    }\n",
              "\n",
              "    .colab-df-convert:hover {\n",
              "      background-color: #E2EBFA;\n",
              "      box-shadow: 0px 1px 2px rgba(60, 64, 67, 0.3), 0px 1px 3px 1px rgba(60, 64, 67, 0.15);\n",
              "      fill: #174EA6;\n",
              "    }\n",
              "\n",
              "    [theme=dark] .colab-df-convert {\n",
              "      background-color: #3B4455;\n",
              "      fill: #D2E3FC;\n",
              "    }\n",
              "\n",
              "    [theme=dark] .colab-df-convert:hover {\n",
              "      background-color: #434B5C;\n",
              "      box-shadow: 0px 1px 3px 1px rgba(0, 0, 0, 0.15);\n",
              "      filter: drop-shadow(0px 1px 2px rgba(0, 0, 0, 0.3));\n",
              "      fill: #FFFFFF;\n",
              "    }\n",
              "  </style>\n",
              "\n",
              "      <script>\n",
              "        const buttonEl =\n",
              "          document.querySelector('#df-8a811562-c0d8-4c9d-8f06-e580e0539419 button.colab-df-convert');\n",
              "        buttonEl.style.display =\n",
              "          google.colab.kernel.accessAllowed ? 'block' : 'none';\n",
              "\n",
              "        async function convertToInteractive(key) {\n",
              "          const element = document.querySelector('#df-8a811562-c0d8-4c9d-8f06-e580e0539419');\n",
              "          const dataTable =\n",
              "            await google.colab.kernel.invokeFunction('convertToInteractive',\n",
              "                                                     [key], {});\n",
              "          if (!dataTable) return;\n",
              "\n",
              "          const docLinkHtml = 'Like what you see? Visit the ' +\n",
              "            '<a target=\"_blank\" href=https://colab.research.google.com/notebooks/data_table.ipynb>data table notebook</a>'\n",
              "            + ' to learn more about interactive tables.';\n",
              "          element.innerHTML = '';\n",
              "          dataTable['output_type'] = 'display_data';\n",
              "          await google.colab.output.renderOutput(dataTable, element);\n",
              "          const docLink = document.createElement('div');\n",
              "          docLink.innerHTML = docLinkHtml;\n",
              "          element.appendChild(docLink);\n",
              "        }\n",
              "      </script>\n",
              "    </div>\n",
              "  </div>\n"
            ]
          },
          "metadata": {},
          "execution_count": 4
        }
      ]
    },
    {
      "cell_type": "code",
      "source": [
        "# Ver las últimas 5 líneas del archivo\n",
        "df.tail(5)"
      ],
      "metadata": {
        "colab": {
          "base_uri": "https://localhost:8080/",
          "height": 206
        },
        "id": "0qPds5ne7uQt",
        "outputId": "eae6b094-768b-467e-8bab-7757674df29b"
      },
      "execution_count": null,
      "outputs": [
        {
          "output_type": "execute_result",
          "data": {
            "text/plain": [
              "     Rating  Reviews                                         Book_title  \\\n",
              "266    3.76        0  3D Game Engine Architecture: Engineering Real-...   \n",
              "267    3.94       22                An Introduction to Database Systems   \n",
              "268    4.49       36  The Art of Computer Programming, Volumes 1-3 B...   \n",
              "269    4.77        4  The Art of Computer Programming, Volumes 1-4a ...   \n",
              "270    3.84        5              A Discipline for Software Engineering   \n",
              "\n",
              "                                           Description  Number_Of_Pages  \\\n",
              "266  Dave Eberly's 3D Game Engine Design was the fi...              752   \n",
              "267  Continuing in the eighth edition, An Introduct...             1040   \n",
              "268  Knuth's classic work has been widely acclaimed...              896   \n",
              "269  \"The bible of all fundamental algorithms and t...             3168   \n",
              "270  Designed to help individual programmers develo...              789   \n",
              "\n",
              "                      Type       Price  \n",
              "266              Hardcover  203.108823  \n",
              "267              Paperback  212.097059  \n",
              "268  Boxed Set - Hardcover  220.385294  \n",
              "269              Hardcover  220.385294  \n",
              "270              Hardcover  235.650000  "
            ],
            "text/html": [
              "\n",
              "\n",
              "  <div id=\"df-7963deb9-fd38-4718-912f-4abd377c0ba0\">\n",
              "    <div class=\"colab-df-container\">\n",
              "      <div>\n",
              "<style scoped>\n",
              "    .dataframe tbody tr th:only-of-type {\n",
              "        vertical-align: middle;\n",
              "    }\n",
              "\n",
              "    .dataframe tbody tr th {\n",
              "        vertical-align: top;\n",
              "    }\n",
              "\n",
              "    .dataframe thead th {\n",
              "        text-align: right;\n",
              "    }\n",
              "</style>\n",
              "<table border=\"1\" class=\"dataframe\">\n",
              "  <thead>\n",
              "    <tr style=\"text-align: right;\">\n",
              "      <th></th>\n",
              "      <th>Rating</th>\n",
              "      <th>Reviews</th>\n",
              "      <th>Book_title</th>\n",
              "      <th>Description</th>\n",
              "      <th>Number_Of_Pages</th>\n",
              "      <th>Type</th>\n",
              "      <th>Price</th>\n",
              "    </tr>\n",
              "  </thead>\n",
              "  <tbody>\n",
              "    <tr>\n",
              "      <th>266</th>\n",
              "      <td>3.76</td>\n",
              "      <td>0</td>\n",
              "      <td>3D Game Engine Architecture: Engineering Real-...</td>\n",
              "      <td>Dave Eberly's 3D Game Engine Design was the fi...</td>\n",
              "      <td>752</td>\n",
              "      <td>Hardcover</td>\n",
              "      <td>203.108823</td>\n",
              "    </tr>\n",
              "    <tr>\n",
              "      <th>267</th>\n",
              "      <td>3.94</td>\n",
              "      <td>22</td>\n",
              "      <td>An Introduction to Database Systems</td>\n",
              "      <td>Continuing in the eighth edition, An Introduct...</td>\n",
              "      <td>1040</td>\n",
              "      <td>Paperback</td>\n",
              "      <td>212.097059</td>\n",
              "    </tr>\n",
              "    <tr>\n",
              "      <th>268</th>\n",
              "      <td>4.49</td>\n",
              "      <td>36</td>\n",
              "      <td>The Art of Computer Programming, Volumes 1-3 B...</td>\n",
              "      <td>Knuth's classic work has been widely acclaimed...</td>\n",
              "      <td>896</td>\n",
              "      <td>Boxed Set - Hardcover</td>\n",
              "      <td>220.385294</td>\n",
              "    </tr>\n",
              "    <tr>\n",
              "      <th>269</th>\n",
              "      <td>4.77</td>\n",
              "      <td>4</td>\n",
              "      <td>The Art of Computer Programming, Volumes 1-4a ...</td>\n",
              "      <td>\"The bible of all fundamental algorithms and t...</td>\n",
              "      <td>3168</td>\n",
              "      <td>Hardcover</td>\n",
              "      <td>220.385294</td>\n",
              "    </tr>\n",
              "    <tr>\n",
              "      <th>270</th>\n",
              "      <td>3.84</td>\n",
              "      <td>5</td>\n",
              "      <td>A Discipline for Software Engineering</td>\n",
              "      <td>Designed to help individual programmers develo...</td>\n",
              "      <td>789</td>\n",
              "      <td>Hardcover</td>\n",
              "      <td>235.650000</td>\n",
              "    </tr>\n",
              "  </tbody>\n",
              "</table>\n",
              "</div>\n",
              "      <button class=\"colab-df-convert\" onclick=\"convertToInteractive('df-7963deb9-fd38-4718-912f-4abd377c0ba0')\"\n",
              "              title=\"Convert this dataframe to an interactive table.\"\n",
              "              style=\"display:none;\">\n",
              "\n",
              "  <svg xmlns=\"http://www.w3.org/2000/svg\" height=\"24px\"viewBox=\"0 0 24 24\"\n",
              "       width=\"24px\">\n",
              "    <path d=\"M0 0h24v24H0V0z\" fill=\"none\"/>\n",
              "    <path d=\"M18.56 5.44l.94 2.06.94-2.06 2.06-.94-2.06-.94-.94-2.06-.94 2.06-2.06.94zm-11 1L8.5 8.5l.94-2.06 2.06-.94-2.06-.94L8.5 2.5l-.94 2.06-2.06.94zm10 10l.94 2.06.94-2.06 2.06-.94-2.06-.94-.94-2.06-.94 2.06-2.06.94z\"/><path d=\"M17.41 7.96l-1.37-1.37c-.4-.4-.92-.59-1.43-.59-.52 0-1.04.2-1.43.59L10.3 9.45l-7.72 7.72c-.78.78-.78 2.05 0 2.83L4 21.41c.39.39.9.59 1.41.59.51 0 1.02-.2 1.41-.59l7.78-7.78 2.81-2.81c.8-.78.8-2.07 0-2.86zM5.41 20L4 18.59l7.72-7.72 1.47 1.35L5.41 20z\"/>\n",
              "  </svg>\n",
              "      </button>\n",
              "\n",
              "\n",
              "\n",
              "    <div id=\"df-9e5256bc-d535-4d28-ac8b-4d6168b2b2b7\">\n",
              "      <button class=\"colab-df-quickchart\" onclick=\"quickchart('df-9e5256bc-d535-4d28-ac8b-4d6168b2b2b7')\"\n",
              "              title=\"Suggest charts.\"\n",
              "              style=\"display:none;\">\n",
              "\n",
              "<svg xmlns=\"http://www.w3.org/2000/svg\" height=\"24px\"viewBox=\"0 0 24 24\"\n",
              "     width=\"24px\">\n",
              "    <g>\n",
              "        <path d=\"M19 3H5c-1.1 0-2 .9-2 2v14c0 1.1.9 2 2 2h14c1.1 0 2-.9 2-2V5c0-1.1-.9-2-2-2zM9 17H7v-7h2v7zm4 0h-2V7h2v10zm4 0h-2v-4h2v4z\"/>\n",
              "    </g>\n",
              "</svg>\n",
              "      </button>\n",
              "    </div>\n",
              "\n",
              "<style>\n",
              "  .colab-df-quickchart {\n",
              "    background-color: #E8F0FE;\n",
              "    border: none;\n",
              "    border-radius: 50%;\n",
              "    cursor: pointer;\n",
              "    display: none;\n",
              "    fill: #1967D2;\n",
              "    height: 32px;\n",
              "    padding: 0 0 0 0;\n",
              "    width: 32px;\n",
              "  }\n",
              "\n",
              "  .colab-df-quickchart:hover {\n",
              "    background-color: #E2EBFA;\n",
              "    box-shadow: 0px 1px 2px rgba(60, 64, 67, 0.3), 0px 1px 3px 1px rgba(60, 64, 67, 0.15);\n",
              "    fill: #174EA6;\n",
              "  }\n",
              "\n",
              "  [theme=dark] .colab-df-quickchart {\n",
              "    background-color: #3B4455;\n",
              "    fill: #D2E3FC;\n",
              "  }\n",
              "\n",
              "  [theme=dark] .colab-df-quickchart:hover {\n",
              "    background-color: #434B5C;\n",
              "    box-shadow: 0px 1px 3px 1px rgba(0, 0, 0, 0.15);\n",
              "    filter: drop-shadow(0px 1px 2px rgba(0, 0, 0, 0.3));\n",
              "    fill: #FFFFFF;\n",
              "  }\n",
              "</style>\n",
              "\n",
              "    <script>\n",
              "      async function quickchart(key) {\n",
              "        const containerElement = document.querySelector('#' + key);\n",
              "        const charts = await google.colab.kernel.invokeFunction(\n",
              "            'suggestCharts', [key], {});\n",
              "      }\n",
              "    </script>\n",
              "\n",
              "      <script>\n",
              "\n",
              "function displayQuickchartButton(domScope) {\n",
              "  let quickchartButtonEl =\n",
              "    domScope.querySelector('#df-9e5256bc-d535-4d28-ac8b-4d6168b2b2b7 button.colab-df-quickchart');\n",
              "  quickchartButtonEl.style.display =\n",
              "    google.colab.kernel.accessAllowed ? 'block' : 'none';\n",
              "}\n",
              "\n",
              "        displayQuickchartButton(document);\n",
              "      </script>\n",
              "      <style>\n",
              "    .colab-df-container {\n",
              "      display:flex;\n",
              "      flex-wrap:wrap;\n",
              "      gap: 12px;\n",
              "    }\n",
              "\n",
              "    .colab-df-convert {\n",
              "      background-color: #E8F0FE;\n",
              "      border: none;\n",
              "      border-radius: 50%;\n",
              "      cursor: pointer;\n",
              "      display: none;\n",
              "      fill: #1967D2;\n",
              "      height: 32px;\n",
              "      padding: 0 0 0 0;\n",
              "      width: 32px;\n",
              "    }\n",
              "\n",
              "    .colab-df-convert:hover {\n",
              "      background-color: #E2EBFA;\n",
              "      box-shadow: 0px 1px 2px rgba(60, 64, 67, 0.3), 0px 1px 3px 1px rgba(60, 64, 67, 0.15);\n",
              "      fill: #174EA6;\n",
              "    }\n",
              "\n",
              "    [theme=dark] .colab-df-convert {\n",
              "      background-color: #3B4455;\n",
              "      fill: #D2E3FC;\n",
              "    }\n",
              "\n",
              "    [theme=dark] .colab-df-convert:hover {\n",
              "      background-color: #434B5C;\n",
              "      box-shadow: 0px 1px 3px 1px rgba(0, 0, 0, 0.15);\n",
              "      filter: drop-shadow(0px 1px 2px rgba(0, 0, 0, 0.3));\n",
              "      fill: #FFFFFF;\n",
              "    }\n",
              "  </style>\n",
              "\n",
              "      <script>\n",
              "        const buttonEl =\n",
              "          document.querySelector('#df-7963deb9-fd38-4718-912f-4abd377c0ba0 button.colab-df-convert');\n",
              "        buttonEl.style.display =\n",
              "          google.colab.kernel.accessAllowed ? 'block' : 'none';\n",
              "\n",
              "        async function convertToInteractive(key) {\n",
              "          const element = document.querySelector('#df-7963deb9-fd38-4718-912f-4abd377c0ba0');\n",
              "          const dataTable =\n",
              "            await google.colab.kernel.invokeFunction('convertToInteractive',\n",
              "                                                     [key], {});\n",
              "          if (!dataTable) return;\n",
              "\n",
              "          const docLinkHtml = 'Like what you see? Visit the ' +\n",
              "            '<a target=\"_blank\" href=https://colab.research.google.com/notebooks/data_table.ipynb>data table notebook</a>'\n",
              "            + ' to learn more about interactive tables.';\n",
              "          element.innerHTML = '';\n",
              "          dataTable['output_type'] = 'display_data';\n",
              "          await google.colab.output.renderOutput(dataTable, element);\n",
              "          const docLink = document.createElement('div');\n",
              "          docLink.innerHTML = docLinkHtml;\n",
              "          element.appendChild(docLink);\n",
              "        }\n",
              "      </script>\n",
              "    </div>\n",
              "  </div>\n"
            ]
          },
          "metadata": {},
          "execution_count": 5
        }
      ]
    },
    {
      "cell_type": "code",
      "source": [
        "# Ver filas 0, 1, 260 y 270 del dataset.\n",
        "df.iloc[[0, 1, 260, 270]]"
      ],
      "metadata": {
        "colab": {
          "base_uri": "https://localhost:8080/",
          "height": 175
        },
        "id": "rPytfCL-7vlM",
        "outputId": "51a82cec-916b-4b1a-c6a4-67bd0f6df3a9"
      },
      "execution_count": null,
      "outputs": [
        {
          "output_type": "execute_result",
          "data": {
            "text/plain": [
              "     Rating  Reviews                                         Book_title  \\\n",
              "0      4.17     3829                              The Elements of Style   \n",
              "1      4.01     1406      The Information: A History, a Theory, a Flood   \n",
              "260    3.45        1  3D Game Engine Design: A Practical Approach to...   \n",
              "270    3.84        5              A Discipline for Software Engineering   \n",
              "\n",
              "                                           Description  Number_Of_Pages  \\\n",
              "0    This style manual offers practical advice on i...              105   \n",
              "1    James Gleick, the author of the best sellers C...              527   \n",
              "260  A major revision of the international bestsell...             1040   \n",
              "270  Designed to help individual programmers develo...              789   \n",
              "\n",
              "          Type       Price  \n",
              "0    Hardcover    9.323529  \n",
              "1    Hardcover   11.000000  \n",
              "260  Hardcover  117.988235  \n",
              "270  Hardcover  235.650000  "
            ],
            "text/html": [
              "\n",
              "\n",
              "  <div id=\"df-26263717-0d66-40e0-a671-cd813fce618d\">\n",
              "    <div class=\"colab-df-container\">\n",
              "      <div>\n",
              "<style scoped>\n",
              "    .dataframe tbody tr th:only-of-type {\n",
              "        vertical-align: middle;\n",
              "    }\n",
              "\n",
              "    .dataframe tbody tr th {\n",
              "        vertical-align: top;\n",
              "    }\n",
              "\n",
              "    .dataframe thead th {\n",
              "        text-align: right;\n",
              "    }\n",
              "</style>\n",
              "<table border=\"1\" class=\"dataframe\">\n",
              "  <thead>\n",
              "    <tr style=\"text-align: right;\">\n",
              "      <th></th>\n",
              "      <th>Rating</th>\n",
              "      <th>Reviews</th>\n",
              "      <th>Book_title</th>\n",
              "      <th>Description</th>\n",
              "      <th>Number_Of_Pages</th>\n",
              "      <th>Type</th>\n",
              "      <th>Price</th>\n",
              "    </tr>\n",
              "  </thead>\n",
              "  <tbody>\n",
              "    <tr>\n",
              "      <th>0</th>\n",
              "      <td>4.17</td>\n",
              "      <td>3829</td>\n",
              "      <td>The Elements of Style</td>\n",
              "      <td>This style manual offers practical advice on i...</td>\n",
              "      <td>105</td>\n",
              "      <td>Hardcover</td>\n",
              "      <td>9.323529</td>\n",
              "    </tr>\n",
              "    <tr>\n",
              "      <th>1</th>\n",
              "      <td>4.01</td>\n",
              "      <td>1406</td>\n",
              "      <td>The Information: A History, a Theory, a Flood</td>\n",
              "      <td>James Gleick, the author of the best sellers C...</td>\n",
              "      <td>527</td>\n",
              "      <td>Hardcover</td>\n",
              "      <td>11.000000</td>\n",
              "    </tr>\n",
              "    <tr>\n",
              "      <th>260</th>\n",
              "      <td>3.45</td>\n",
              "      <td>1</td>\n",
              "      <td>3D Game Engine Design: A Practical Approach to...</td>\n",
              "      <td>A major revision of the international bestsell...</td>\n",
              "      <td>1040</td>\n",
              "      <td>Hardcover</td>\n",
              "      <td>117.988235</td>\n",
              "    </tr>\n",
              "    <tr>\n",
              "      <th>270</th>\n",
              "      <td>3.84</td>\n",
              "      <td>5</td>\n",
              "      <td>A Discipline for Software Engineering</td>\n",
              "      <td>Designed to help individual programmers develo...</td>\n",
              "      <td>789</td>\n",
              "      <td>Hardcover</td>\n",
              "      <td>235.650000</td>\n",
              "    </tr>\n",
              "  </tbody>\n",
              "</table>\n",
              "</div>\n",
              "      <button class=\"colab-df-convert\" onclick=\"convertToInteractive('df-26263717-0d66-40e0-a671-cd813fce618d')\"\n",
              "              title=\"Convert this dataframe to an interactive table.\"\n",
              "              style=\"display:none;\">\n",
              "\n",
              "  <svg xmlns=\"http://www.w3.org/2000/svg\" height=\"24px\"viewBox=\"0 0 24 24\"\n",
              "       width=\"24px\">\n",
              "    <path d=\"M0 0h24v24H0V0z\" fill=\"none\"/>\n",
              "    <path d=\"M18.56 5.44l.94 2.06.94-2.06 2.06-.94-2.06-.94-.94-2.06-.94 2.06-2.06.94zm-11 1L8.5 8.5l.94-2.06 2.06-.94-2.06-.94L8.5 2.5l-.94 2.06-2.06.94zm10 10l.94 2.06.94-2.06 2.06-.94-2.06-.94-.94-2.06-.94 2.06-2.06.94z\"/><path d=\"M17.41 7.96l-1.37-1.37c-.4-.4-.92-.59-1.43-.59-.52 0-1.04.2-1.43.59L10.3 9.45l-7.72 7.72c-.78.78-.78 2.05 0 2.83L4 21.41c.39.39.9.59 1.41.59.51 0 1.02-.2 1.41-.59l7.78-7.78 2.81-2.81c.8-.78.8-2.07 0-2.86zM5.41 20L4 18.59l7.72-7.72 1.47 1.35L5.41 20z\"/>\n",
              "  </svg>\n",
              "      </button>\n",
              "\n",
              "\n",
              "\n",
              "    <div id=\"df-5640ff5f-b43b-4c77-9d2b-7d9b548acfbb\">\n",
              "      <button class=\"colab-df-quickchart\" onclick=\"quickchart('df-5640ff5f-b43b-4c77-9d2b-7d9b548acfbb')\"\n",
              "              title=\"Suggest charts.\"\n",
              "              style=\"display:none;\">\n",
              "\n",
              "<svg xmlns=\"http://www.w3.org/2000/svg\" height=\"24px\"viewBox=\"0 0 24 24\"\n",
              "     width=\"24px\">\n",
              "    <g>\n",
              "        <path d=\"M19 3H5c-1.1 0-2 .9-2 2v14c0 1.1.9 2 2 2h14c1.1 0 2-.9 2-2V5c0-1.1-.9-2-2-2zM9 17H7v-7h2v7zm4 0h-2V7h2v10zm4 0h-2v-4h2v4z\"/>\n",
              "    </g>\n",
              "</svg>\n",
              "      </button>\n",
              "    </div>\n",
              "\n",
              "<style>\n",
              "  .colab-df-quickchart {\n",
              "    background-color: #E8F0FE;\n",
              "    border: none;\n",
              "    border-radius: 50%;\n",
              "    cursor: pointer;\n",
              "    display: none;\n",
              "    fill: #1967D2;\n",
              "    height: 32px;\n",
              "    padding: 0 0 0 0;\n",
              "    width: 32px;\n",
              "  }\n",
              "\n",
              "  .colab-df-quickchart:hover {\n",
              "    background-color: #E2EBFA;\n",
              "    box-shadow: 0px 1px 2px rgba(60, 64, 67, 0.3), 0px 1px 3px 1px rgba(60, 64, 67, 0.15);\n",
              "    fill: #174EA6;\n",
              "  }\n",
              "\n",
              "  [theme=dark] .colab-df-quickchart {\n",
              "    background-color: #3B4455;\n",
              "    fill: #D2E3FC;\n",
              "  }\n",
              "\n",
              "  [theme=dark] .colab-df-quickchart:hover {\n",
              "    background-color: #434B5C;\n",
              "    box-shadow: 0px 1px 3px 1px rgba(0, 0, 0, 0.15);\n",
              "    filter: drop-shadow(0px 1px 2px rgba(0, 0, 0, 0.3));\n",
              "    fill: #FFFFFF;\n",
              "  }\n",
              "</style>\n",
              "\n",
              "    <script>\n",
              "      async function quickchart(key) {\n",
              "        const containerElement = document.querySelector('#' + key);\n",
              "        const charts = await google.colab.kernel.invokeFunction(\n",
              "            'suggestCharts', [key], {});\n",
              "      }\n",
              "    </script>\n",
              "\n",
              "      <script>\n",
              "\n",
              "function displayQuickchartButton(domScope) {\n",
              "  let quickchartButtonEl =\n",
              "    domScope.querySelector('#df-5640ff5f-b43b-4c77-9d2b-7d9b548acfbb button.colab-df-quickchart');\n",
              "  quickchartButtonEl.style.display =\n",
              "    google.colab.kernel.accessAllowed ? 'block' : 'none';\n",
              "}\n",
              "\n",
              "        displayQuickchartButton(document);\n",
              "      </script>\n",
              "      <style>\n",
              "    .colab-df-container {\n",
              "      display:flex;\n",
              "      flex-wrap:wrap;\n",
              "      gap: 12px;\n",
              "    }\n",
              "\n",
              "    .colab-df-convert {\n",
              "      background-color: #E8F0FE;\n",
              "      border: none;\n",
              "      border-radius: 50%;\n",
              "      cursor: pointer;\n",
              "      display: none;\n",
              "      fill: #1967D2;\n",
              "      height: 32px;\n",
              "      padding: 0 0 0 0;\n",
              "      width: 32px;\n",
              "    }\n",
              "\n",
              "    .colab-df-convert:hover {\n",
              "      background-color: #E2EBFA;\n",
              "      box-shadow: 0px 1px 2px rgba(60, 64, 67, 0.3), 0px 1px 3px 1px rgba(60, 64, 67, 0.15);\n",
              "      fill: #174EA6;\n",
              "    }\n",
              "\n",
              "    [theme=dark] .colab-df-convert {\n",
              "      background-color: #3B4455;\n",
              "      fill: #D2E3FC;\n",
              "    }\n",
              "\n",
              "    [theme=dark] .colab-df-convert:hover {\n",
              "      background-color: #434B5C;\n",
              "      box-shadow: 0px 1px 3px 1px rgba(0, 0, 0, 0.15);\n",
              "      filter: drop-shadow(0px 1px 2px rgba(0, 0, 0, 0.3));\n",
              "      fill: #FFFFFF;\n",
              "    }\n",
              "  </style>\n",
              "\n",
              "      <script>\n",
              "        const buttonEl =\n",
              "          document.querySelector('#df-26263717-0d66-40e0-a671-cd813fce618d button.colab-df-convert');\n",
              "        buttonEl.style.display =\n",
              "          google.colab.kernel.accessAllowed ? 'block' : 'none';\n",
              "\n",
              "        async function convertToInteractive(key) {\n",
              "          const element = document.querySelector('#df-26263717-0d66-40e0-a671-cd813fce618d');\n",
              "          const dataTable =\n",
              "            await google.colab.kernel.invokeFunction('convertToInteractive',\n",
              "                                                     [key], {});\n",
              "          if (!dataTable) return;\n",
              "\n",
              "          const docLinkHtml = 'Like what you see? Visit the ' +\n",
              "            '<a target=\"_blank\" href=https://colab.research.google.com/notebooks/data_table.ipynb>data table notebook</a>'\n",
              "            + ' to learn more about interactive tables.';\n",
              "          element.innerHTML = '';\n",
              "          dataTable['output_type'] = 'display_data';\n",
              "          await google.colab.output.renderOutput(dataTable, element);\n",
              "          const docLink = document.createElement('div');\n",
              "          docLink.innerHTML = docLinkHtml;\n",
              "          element.appendChild(docLink);\n",
              "        }\n",
              "      </script>\n",
              "    </div>\n",
              "  </div>\n"
            ]
          },
          "metadata": {},
          "execution_count": 6
        }
      ]
    },
    {
      "cell_type": "markdown",
      "source": [
        "Para obtener información de los datos del dataset utilizamos `describe` e `info`."
      ],
      "metadata": {
        "id": "n_eStXYq7zxC"
      }
    },
    {
      "cell_type": "code",
      "source": [
        "# Descripción de las columnas numéricas del dataset\n",
        "df.describe()"
      ],
      "metadata": {
        "colab": {
          "base_uri": "https://localhost:8080/",
          "height": 300
        },
        "id": "OR8Woo0K7x4x",
        "outputId": "deba26a8-3eef-4598-fe1d-fff6d40f1029"
      },
      "execution_count": null,
      "outputs": [
        {
          "output_type": "execute_result",
          "data": {
            "text/plain": [
              "           Rating      Reviews  Number_Of_Pages       Price\n",
              "count  271.000000   271.000000       271.000000  271.000000\n",
              "mean     4.067417   185.557196       475.077491   54.541860\n",
              "std      0.290749   552.122252       306.147492   35.711485\n",
              "min      3.000000     0.000000        50.000000    9.323529\n",
              "25%      3.915000     5.500000       289.000000   30.751471\n",
              "50%      4.100000    35.000000       384.000000   46.317647\n",
              "75%      4.250000   116.500000       572.500000   67.854412\n",
              "max      5.000000  5938.000000      3168.000000  235.650000"
            ],
            "text/html": [
              "\n",
              "\n",
              "  <div id=\"df-553182ac-beac-460b-a5c6-6b422b18f776\">\n",
              "    <div class=\"colab-df-container\">\n",
              "      <div>\n",
              "<style scoped>\n",
              "    .dataframe tbody tr th:only-of-type {\n",
              "        vertical-align: middle;\n",
              "    }\n",
              "\n",
              "    .dataframe tbody tr th {\n",
              "        vertical-align: top;\n",
              "    }\n",
              "\n",
              "    .dataframe thead th {\n",
              "        text-align: right;\n",
              "    }\n",
              "</style>\n",
              "<table border=\"1\" class=\"dataframe\">\n",
              "  <thead>\n",
              "    <tr style=\"text-align: right;\">\n",
              "      <th></th>\n",
              "      <th>Rating</th>\n",
              "      <th>Reviews</th>\n",
              "      <th>Number_Of_Pages</th>\n",
              "      <th>Price</th>\n",
              "    </tr>\n",
              "  </thead>\n",
              "  <tbody>\n",
              "    <tr>\n",
              "      <th>count</th>\n",
              "      <td>271.000000</td>\n",
              "      <td>271.000000</td>\n",
              "      <td>271.000000</td>\n",
              "      <td>271.000000</td>\n",
              "    </tr>\n",
              "    <tr>\n",
              "      <th>mean</th>\n",
              "      <td>4.067417</td>\n",
              "      <td>185.557196</td>\n",
              "      <td>475.077491</td>\n",
              "      <td>54.541860</td>\n",
              "    </tr>\n",
              "    <tr>\n",
              "      <th>std</th>\n",
              "      <td>0.290749</td>\n",
              "      <td>552.122252</td>\n",
              "      <td>306.147492</td>\n",
              "      <td>35.711485</td>\n",
              "    </tr>\n",
              "    <tr>\n",
              "      <th>min</th>\n",
              "      <td>3.000000</td>\n",
              "      <td>0.000000</td>\n",
              "      <td>50.000000</td>\n",
              "      <td>9.323529</td>\n",
              "    </tr>\n",
              "    <tr>\n",
              "      <th>25%</th>\n",
              "      <td>3.915000</td>\n",
              "      <td>5.500000</td>\n",
              "      <td>289.000000</td>\n",
              "      <td>30.751471</td>\n",
              "    </tr>\n",
              "    <tr>\n",
              "      <th>50%</th>\n",
              "      <td>4.100000</td>\n",
              "      <td>35.000000</td>\n",
              "      <td>384.000000</td>\n",
              "      <td>46.317647</td>\n",
              "    </tr>\n",
              "    <tr>\n",
              "      <th>75%</th>\n",
              "      <td>4.250000</td>\n",
              "      <td>116.500000</td>\n",
              "      <td>572.500000</td>\n",
              "      <td>67.854412</td>\n",
              "    </tr>\n",
              "    <tr>\n",
              "      <th>max</th>\n",
              "      <td>5.000000</td>\n",
              "      <td>5938.000000</td>\n",
              "      <td>3168.000000</td>\n",
              "      <td>235.650000</td>\n",
              "    </tr>\n",
              "  </tbody>\n",
              "</table>\n",
              "</div>\n",
              "      <button class=\"colab-df-convert\" onclick=\"convertToInteractive('df-553182ac-beac-460b-a5c6-6b422b18f776')\"\n",
              "              title=\"Convert this dataframe to an interactive table.\"\n",
              "              style=\"display:none;\">\n",
              "\n",
              "  <svg xmlns=\"http://www.w3.org/2000/svg\" height=\"24px\"viewBox=\"0 0 24 24\"\n",
              "       width=\"24px\">\n",
              "    <path d=\"M0 0h24v24H0V0z\" fill=\"none\"/>\n",
              "    <path d=\"M18.56 5.44l.94 2.06.94-2.06 2.06-.94-2.06-.94-.94-2.06-.94 2.06-2.06.94zm-11 1L8.5 8.5l.94-2.06 2.06-.94-2.06-.94L8.5 2.5l-.94 2.06-2.06.94zm10 10l.94 2.06.94-2.06 2.06-.94-2.06-.94-.94-2.06-.94 2.06-2.06.94z\"/><path d=\"M17.41 7.96l-1.37-1.37c-.4-.4-.92-.59-1.43-.59-.52 0-1.04.2-1.43.59L10.3 9.45l-7.72 7.72c-.78.78-.78 2.05 0 2.83L4 21.41c.39.39.9.59 1.41.59.51 0 1.02-.2 1.41-.59l7.78-7.78 2.81-2.81c.8-.78.8-2.07 0-2.86zM5.41 20L4 18.59l7.72-7.72 1.47 1.35L5.41 20z\"/>\n",
              "  </svg>\n",
              "      </button>\n",
              "\n",
              "\n",
              "\n",
              "    <div id=\"df-6fd43f31-a21f-4dcd-87b1-15f1f3558f00\">\n",
              "      <button class=\"colab-df-quickchart\" onclick=\"quickchart('df-6fd43f31-a21f-4dcd-87b1-15f1f3558f00')\"\n",
              "              title=\"Suggest charts.\"\n",
              "              style=\"display:none;\">\n",
              "\n",
              "<svg xmlns=\"http://www.w3.org/2000/svg\" height=\"24px\"viewBox=\"0 0 24 24\"\n",
              "     width=\"24px\">\n",
              "    <g>\n",
              "        <path d=\"M19 3H5c-1.1 0-2 .9-2 2v14c0 1.1.9 2 2 2h14c1.1 0 2-.9 2-2V5c0-1.1-.9-2-2-2zM9 17H7v-7h2v7zm4 0h-2V7h2v10zm4 0h-2v-4h2v4z\"/>\n",
              "    </g>\n",
              "</svg>\n",
              "      </button>\n",
              "    </div>\n",
              "\n",
              "<style>\n",
              "  .colab-df-quickchart {\n",
              "    background-color: #E8F0FE;\n",
              "    border: none;\n",
              "    border-radius: 50%;\n",
              "    cursor: pointer;\n",
              "    display: none;\n",
              "    fill: #1967D2;\n",
              "    height: 32px;\n",
              "    padding: 0 0 0 0;\n",
              "    width: 32px;\n",
              "  }\n",
              "\n",
              "  .colab-df-quickchart:hover {\n",
              "    background-color: #E2EBFA;\n",
              "    box-shadow: 0px 1px 2px rgba(60, 64, 67, 0.3), 0px 1px 3px 1px rgba(60, 64, 67, 0.15);\n",
              "    fill: #174EA6;\n",
              "  }\n",
              "\n",
              "  [theme=dark] .colab-df-quickchart {\n",
              "    background-color: #3B4455;\n",
              "    fill: #D2E3FC;\n",
              "  }\n",
              "\n",
              "  [theme=dark] .colab-df-quickchart:hover {\n",
              "    background-color: #434B5C;\n",
              "    box-shadow: 0px 1px 3px 1px rgba(0, 0, 0, 0.15);\n",
              "    filter: drop-shadow(0px 1px 2px rgba(0, 0, 0, 0.3));\n",
              "    fill: #FFFFFF;\n",
              "  }\n",
              "</style>\n",
              "\n",
              "    <script>\n",
              "      async function quickchart(key) {\n",
              "        const containerElement = document.querySelector('#' + key);\n",
              "        const charts = await google.colab.kernel.invokeFunction(\n",
              "            'suggestCharts', [key], {});\n",
              "      }\n",
              "    </script>\n",
              "\n",
              "      <script>\n",
              "\n",
              "function displayQuickchartButton(domScope) {\n",
              "  let quickchartButtonEl =\n",
              "    domScope.querySelector('#df-6fd43f31-a21f-4dcd-87b1-15f1f3558f00 button.colab-df-quickchart');\n",
              "  quickchartButtonEl.style.display =\n",
              "    google.colab.kernel.accessAllowed ? 'block' : 'none';\n",
              "}\n",
              "\n",
              "        displayQuickchartButton(document);\n",
              "      </script>\n",
              "      <style>\n",
              "    .colab-df-container {\n",
              "      display:flex;\n",
              "      flex-wrap:wrap;\n",
              "      gap: 12px;\n",
              "    }\n",
              "\n",
              "    .colab-df-convert {\n",
              "      background-color: #E8F0FE;\n",
              "      border: none;\n",
              "      border-radius: 50%;\n",
              "      cursor: pointer;\n",
              "      display: none;\n",
              "      fill: #1967D2;\n",
              "      height: 32px;\n",
              "      padding: 0 0 0 0;\n",
              "      width: 32px;\n",
              "    }\n",
              "\n",
              "    .colab-df-convert:hover {\n",
              "      background-color: #E2EBFA;\n",
              "      box-shadow: 0px 1px 2px rgba(60, 64, 67, 0.3), 0px 1px 3px 1px rgba(60, 64, 67, 0.15);\n",
              "      fill: #174EA6;\n",
              "    }\n",
              "\n",
              "    [theme=dark] .colab-df-convert {\n",
              "      background-color: #3B4455;\n",
              "      fill: #D2E3FC;\n",
              "    }\n",
              "\n",
              "    [theme=dark] .colab-df-convert:hover {\n",
              "      background-color: #434B5C;\n",
              "      box-shadow: 0px 1px 3px 1px rgba(0, 0, 0, 0.15);\n",
              "      filter: drop-shadow(0px 1px 2px rgba(0, 0, 0, 0.3));\n",
              "      fill: #FFFFFF;\n",
              "    }\n",
              "  </style>\n",
              "\n",
              "      <script>\n",
              "        const buttonEl =\n",
              "          document.querySelector('#df-553182ac-beac-460b-a5c6-6b422b18f776 button.colab-df-convert');\n",
              "        buttonEl.style.display =\n",
              "          google.colab.kernel.accessAllowed ? 'block' : 'none';\n",
              "\n",
              "        async function convertToInteractive(key) {\n",
              "          const element = document.querySelector('#df-553182ac-beac-460b-a5c6-6b422b18f776');\n",
              "          const dataTable =\n",
              "            await google.colab.kernel.invokeFunction('convertToInteractive',\n",
              "                                                     [key], {});\n",
              "          if (!dataTable) return;\n",
              "\n",
              "          const docLinkHtml = 'Like what you see? Visit the ' +\n",
              "            '<a target=\"_blank\" href=https://colab.research.google.com/notebooks/data_table.ipynb>data table notebook</a>'\n",
              "            + ' to learn more about interactive tables.';\n",
              "          element.innerHTML = '';\n",
              "          dataTable['output_type'] = 'display_data';\n",
              "          await google.colab.output.renderOutput(dataTable, element);\n",
              "          const docLink = document.createElement('div');\n",
              "          docLink.innerHTML = docLinkHtml;\n",
              "          element.appendChild(docLink);\n",
              "        }\n",
              "      </script>\n",
              "    </div>\n",
              "  </div>\n"
            ]
          },
          "metadata": {},
          "execution_count": 7
        }
      ]
    },
    {
      "cell_type": "markdown",
      "source": [
        "Usamos `info` para tener información sobre el tipo de dato que pandas identificó por columna, cuantos `NaN` (not a number) hay y el espacio de la ram ocupada."
      ],
      "metadata": {
        "id": "7rGNo-sO8DF1"
      }
    },
    {
      "cell_type": "code",
      "source": [
        "# Información más computacional del dataset\n",
        "df.info()"
      ],
      "metadata": {
        "colab": {
          "base_uri": "https://localhost:8080/"
        },
        "id": "RKLFB_MP8CdU",
        "outputId": "a9e30311-cefd-4563-c0a4-2d55bd4a70dd"
      },
      "execution_count": null,
      "outputs": [
        {
          "output_type": "stream",
          "name": "stdout",
          "text": [
            "<class 'pandas.core.frame.DataFrame'>\n",
            "RangeIndex: 271 entries, 0 to 270\n",
            "Data columns (total 7 columns):\n",
            " #   Column           Non-Null Count  Dtype  \n",
            "---  ------           --------------  -----  \n",
            " 0   Rating           271 non-null    float64\n",
            " 1   Reviews          271 non-null    int64  \n",
            " 2   Book_title       271 non-null    object \n",
            " 3   Description      271 non-null    object \n",
            " 4   Number_Of_Pages  271 non-null    int64  \n",
            " 5   Type             271 non-null    object \n",
            " 6   Price            271 non-null    float64\n",
            "dtypes: float64(2), int64(2), object(3)\n",
            "memory usage: 14.9+ KB\n"
          ]
        }
      ]
    },
    {
      "cell_type": "markdown",
      "source": [
        "También podemos retirar columnas del dataset que no serán de interés. Para eso hay 2 formas:\n",
        "- El comando `del` para eliminar la columna no deseada.\n",
        "- Seleccionar las columnas que queremos mantener."
      ],
      "metadata": {
        "id": "kOYH6R-b8TZT"
      }
    },
    {
      "cell_type": "code",
      "source": [
        "df_copy = df.copy()\n",
        "\n",
        "del df_copy[\"Description\"]\n",
        "del df_copy[\"Number_Of_Pages\"]\n",
        "del df_copy[\"Type\"]\n",
        "df_copy.head()"
      ],
      "metadata": {
        "colab": {
          "base_uri": "https://localhost:8080/",
          "height": 206
        },
        "id": "mnMNtHTz8FZ3",
        "outputId": "332d01b7-85bc-415f-c756-32d5ecddee84"
      },
      "execution_count": null,
      "outputs": [
        {
          "output_type": "execute_result",
          "data": {
            "text/plain": [
              "   Rating  Reviews                                         Book_title  \\\n",
              "0    4.17     3829                              The Elements of Style   \n",
              "1    4.01     1406      The Information: A History, a Theory, a Flood   \n",
              "2    3.33        0       Responsive Web Design Overview For Beginners   \n",
              "3    3.97     1658  Ghost in the Wires: My Adventures as the World...   \n",
              "4    4.06     1325                                   How Google Works   \n",
              "\n",
              "       Price  \n",
              "0   9.323529  \n",
              "1  11.000000  \n",
              "2  11.267647  \n",
              "3  12.873529  \n",
              "4  13.164706  "
            ],
            "text/html": [
              "\n",
              "\n",
              "  <div id=\"df-33e232fa-3c1e-4051-8a3a-52df2dfb4a27\">\n",
              "    <div class=\"colab-df-container\">\n",
              "      <div>\n",
              "<style scoped>\n",
              "    .dataframe tbody tr th:only-of-type {\n",
              "        vertical-align: middle;\n",
              "    }\n",
              "\n",
              "    .dataframe tbody tr th {\n",
              "        vertical-align: top;\n",
              "    }\n",
              "\n",
              "    .dataframe thead th {\n",
              "        text-align: right;\n",
              "    }\n",
              "</style>\n",
              "<table border=\"1\" class=\"dataframe\">\n",
              "  <thead>\n",
              "    <tr style=\"text-align: right;\">\n",
              "      <th></th>\n",
              "      <th>Rating</th>\n",
              "      <th>Reviews</th>\n",
              "      <th>Book_title</th>\n",
              "      <th>Price</th>\n",
              "    </tr>\n",
              "  </thead>\n",
              "  <tbody>\n",
              "    <tr>\n",
              "      <th>0</th>\n",
              "      <td>4.17</td>\n",
              "      <td>3829</td>\n",
              "      <td>The Elements of Style</td>\n",
              "      <td>9.323529</td>\n",
              "    </tr>\n",
              "    <tr>\n",
              "      <th>1</th>\n",
              "      <td>4.01</td>\n",
              "      <td>1406</td>\n",
              "      <td>The Information: A History, a Theory, a Flood</td>\n",
              "      <td>11.000000</td>\n",
              "    </tr>\n",
              "    <tr>\n",
              "      <th>2</th>\n",
              "      <td>3.33</td>\n",
              "      <td>0</td>\n",
              "      <td>Responsive Web Design Overview For Beginners</td>\n",
              "      <td>11.267647</td>\n",
              "    </tr>\n",
              "    <tr>\n",
              "      <th>3</th>\n",
              "      <td>3.97</td>\n",
              "      <td>1658</td>\n",
              "      <td>Ghost in the Wires: My Adventures as the World...</td>\n",
              "      <td>12.873529</td>\n",
              "    </tr>\n",
              "    <tr>\n",
              "      <th>4</th>\n",
              "      <td>4.06</td>\n",
              "      <td>1325</td>\n",
              "      <td>How Google Works</td>\n",
              "      <td>13.164706</td>\n",
              "    </tr>\n",
              "  </tbody>\n",
              "</table>\n",
              "</div>\n",
              "      <button class=\"colab-df-convert\" onclick=\"convertToInteractive('df-33e232fa-3c1e-4051-8a3a-52df2dfb4a27')\"\n",
              "              title=\"Convert this dataframe to an interactive table.\"\n",
              "              style=\"display:none;\">\n",
              "\n",
              "  <svg xmlns=\"http://www.w3.org/2000/svg\" height=\"24px\"viewBox=\"0 0 24 24\"\n",
              "       width=\"24px\">\n",
              "    <path d=\"M0 0h24v24H0V0z\" fill=\"none\"/>\n",
              "    <path d=\"M18.56 5.44l.94 2.06.94-2.06 2.06-.94-2.06-.94-.94-2.06-.94 2.06-2.06.94zm-11 1L8.5 8.5l.94-2.06 2.06-.94-2.06-.94L8.5 2.5l-.94 2.06-2.06.94zm10 10l.94 2.06.94-2.06 2.06-.94-2.06-.94-.94-2.06-.94 2.06-2.06.94z\"/><path d=\"M17.41 7.96l-1.37-1.37c-.4-.4-.92-.59-1.43-.59-.52 0-1.04.2-1.43.59L10.3 9.45l-7.72 7.72c-.78.78-.78 2.05 0 2.83L4 21.41c.39.39.9.59 1.41.59.51 0 1.02-.2 1.41-.59l7.78-7.78 2.81-2.81c.8-.78.8-2.07 0-2.86zM5.41 20L4 18.59l7.72-7.72 1.47 1.35L5.41 20z\"/>\n",
              "  </svg>\n",
              "      </button>\n",
              "\n",
              "\n",
              "\n",
              "    <div id=\"df-dae3bb30-f609-4725-8c68-d8fcf81781e2\">\n",
              "      <button class=\"colab-df-quickchart\" onclick=\"quickchart('df-dae3bb30-f609-4725-8c68-d8fcf81781e2')\"\n",
              "              title=\"Suggest charts.\"\n",
              "              style=\"display:none;\">\n",
              "\n",
              "<svg xmlns=\"http://www.w3.org/2000/svg\" height=\"24px\"viewBox=\"0 0 24 24\"\n",
              "     width=\"24px\">\n",
              "    <g>\n",
              "        <path d=\"M19 3H5c-1.1 0-2 .9-2 2v14c0 1.1.9 2 2 2h14c1.1 0 2-.9 2-2V5c0-1.1-.9-2-2-2zM9 17H7v-7h2v7zm4 0h-2V7h2v10zm4 0h-2v-4h2v4z\"/>\n",
              "    </g>\n",
              "</svg>\n",
              "      </button>\n",
              "    </div>\n",
              "\n",
              "<style>\n",
              "  .colab-df-quickchart {\n",
              "    background-color: #E8F0FE;\n",
              "    border: none;\n",
              "    border-radius: 50%;\n",
              "    cursor: pointer;\n",
              "    display: none;\n",
              "    fill: #1967D2;\n",
              "    height: 32px;\n",
              "    padding: 0 0 0 0;\n",
              "    width: 32px;\n",
              "  }\n",
              "\n",
              "  .colab-df-quickchart:hover {\n",
              "    background-color: #E2EBFA;\n",
              "    box-shadow: 0px 1px 2px rgba(60, 64, 67, 0.3), 0px 1px 3px 1px rgba(60, 64, 67, 0.15);\n",
              "    fill: #174EA6;\n",
              "  }\n",
              "\n",
              "  [theme=dark] .colab-df-quickchart {\n",
              "    background-color: #3B4455;\n",
              "    fill: #D2E3FC;\n",
              "  }\n",
              "\n",
              "  [theme=dark] .colab-df-quickchart:hover {\n",
              "    background-color: #434B5C;\n",
              "    box-shadow: 0px 1px 3px 1px rgba(0, 0, 0, 0.15);\n",
              "    filter: drop-shadow(0px 1px 2px rgba(0, 0, 0, 0.3));\n",
              "    fill: #FFFFFF;\n",
              "  }\n",
              "</style>\n",
              "\n",
              "    <script>\n",
              "      async function quickchart(key) {\n",
              "        const containerElement = document.querySelector('#' + key);\n",
              "        const charts = await google.colab.kernel.invokeFunction(\n",
              "            'suggestCharts', [key], {});\n",
              "      }\n",
              "    </script>\n",
              "\n",
              "      <script>\n",
              "\n",
              "function displayQuickchartButton(domScope) {\n",
              "  let quickchartButtonEl =\n",
              "    domScope.querySelector('#df-dae3bb30-f609-4725-8c68-d8fcf81781e2 button.colab-df-quickchart');\n",
              "  quickchartButtonEl.style.display =\n",
              "    google.colab.kernel.accessAllowed ? 'block' : 'none';\n",
              "}\n",
              "\n",
              "        displayQuickchartButton(document);\n",
              "      </script>\n",
              "      <style>\n",
              "    .colab-df-container {\n",
              "      display:flex;\n",
              "      flex-wrap:wrap;\n",
              "      gap: 12px;\n",
              "    }\n",
              "\n",
              "    .colab-df-convert {\n",
              "      background-color: #E8F0FE;\n",
              "      border: none;\n",
              "      border-radius: 50%;\n",
              "      cursor: pointer;\n",
              "      display: none;\n",
              "      fill: #1967D2;\n",
              "      height: 32px;\n",
              "      padding: 0 0 0 0;\n",
              "      width: 32px;\n",
              "    }\n",
              "\n",
              "    .colab-df-convert:hover {\n",
              "      background-color: #E2EBFA;\n",
              "      box-shadow: 0px 1px 2px rgba(60, 64, 67, 0.3), 0px 1px 3px 1px rgba(60, 64, 67, 0.15);\n",
              "      fill: #174EA6;\n",
              "    }\n",
              "\n",
              "    [theme=dark] .colab-df-convert {\n",
              "      background-color: #3B4455;\n",
              "      fill: #D2E3FC;\n",
              "    }\n",
              "\n",
              "    [theme=dark] .colab-df-convert:hover {\n",
              "      background-color: #434B5C;\n",
              "      box-shadow: 0px 1px 3px 1px rgba(0, 0, 0, 0.15);\n",
              "      filter: drop-shadow(0px 1px 2px rgba(0, 0, 0, 0.3));\n",
              "      fill: #FFFFFF;\n",
              "    }\n",
              "  </style>\n",
              "\n",
              "      <script>\n",
              "        const buttonEl =\n",
              "          document.querySelector('#df-33e232fa-3c1e-4051-8a3a-52df2dfb4a27 button.colab-df-convert');\n",
              "        buttonEl.style.display =\n",
              "          google.colab.kernel.accessAllowed ? 'block' : 'none';\n",
              "\n",
              "        async function convertToInteractive(key) {\n",
              "          const element = document.querySelector('#df-33e232fa-3c1e-4051-8a3a-52df2dfb4a27');\n",
              "          const dataTable =\n",
              "            await google.colab.kernel.invokeFunction('convertToInteractive',\n",
              "                                                     [key], {});\n",
              "          if (!dataTable) return;\n",
              "\n",
              "          const docLinkHtml = 'Like what you see? Visit the ' +\n",
              "            '<a target=\"_blank\" href=https://colab.research.google.com/notebooks/data_table.ipynb>data table notebook</a>'\n",
              "            + ' to learn more about interactive tables.';\n",
              "          element.innerHTML = '';\n",
              "          dataTable['output_type'] = 'display_data';\n",
              "          await google.colab.output.renderOutput(dataTable, element);\n",
              "          const docLink = document.createElement('div');\n",
              "          docLink.innerHTML = docLinkHtml;\n",
              "          element.appendChild(docLink);\n",
              "        }\n",
              "      </script>\n",
              "    </div>\n",
              "  </div>\n"
            ]
          },
          "metadata": {},
          "execution_count": 9
        }
      ]
    },
    {
      "cell_type": "code",
      "source": [
        "df_copy = df.copy()\n",
        "\n",
        "columnas_que_queremos = [\"Rating\", \"Reviews\", \"Book_title\"]\n",
        "df_copy = df_copy[columnas_que_queremos]\n",
        "df_copy.head()"
      ],
      "metadata": {
        "colab": {
          "base_uri": "https://localhost:8080/",
          "height": 206
        },
        "id": "rFy7o1j28U2f",
        "outputId": "4196b6ef-510c-454c-f60f-3ba01f3adc10"
      },
      "execution_count": null,
      "outputs": [
        {
          "output_type": "execute_result",
          "data": {
            "text/plain": [
              "   Rating  Reviews                                         Book_title\n",
              "0    4.17     3829                              The Elements of Style\n",
              "1    4.01     1406      The Information: A History, a Theory, a Flood\n",
              "2    3.33        0       Responsive Web Design Overview For Beginners\n",
              "3    3.97     1658  Ghost in the Wires: My Adventures as the World...\n",
              "4    4.06     1325                                   How Google Works"
            ],
            "text/html": [
              "\n",
              "\n",
              "  <div id=\"df-42f67a3a-3a94-4569-acaf-219a7d21103f\">\n",
              "    <div class=\"colab-df-container\">\n",
              "      <div>\n",
              "<style scoped>\n",
              "    .dataframe tbody tr th:only-of-type {\n",
              "        vertical-align: middle;\n",
              "    }\n",
              "\n",
              "    .dataframe tbody tr th {\n",
              "        vertical-align: top;\n",
              "    }\n",
              "\n",
              "    .dataframe thead th {\n",
              "        text-align: right;\n",
              "    }\n",
              "</style>\n",
              "<table border=\"1\" class=\"dataframe\">\n",
              "  <thead>\n",
              "    <tr style=\"text-align: right;\">\n",
              "      <th></th>\n",
              "      <th>Rating</th>\n",
              "      <th>Reviews</th>\n",
              "      <th>Book_title</th>\n",
              "    </tr>\n",
              "  </thead>\n",
              "  <tbody>\n",
              "    <tr>\n",
              "      <th>0</th>\n",
              "      <td>4.17</td>\n",
              "      <td>3829</td>\n",
              "      <td>The Elements of Style</td>\n",
              "    </tr>\n",
              "    <tr>\n",
              "      <th>1</th>\n",
              "      <td>4.01</td>\n",
              "      <td>1406</td>\n",
              "      <td>The Information: A History, a Theory, a Flood</td>\n",
              "    </tr>\n",
              "    <tr>\n",
              "      <th>2</th>\n",
              "      <td>3.33</td>\n",
              "      <td>0</td>\n",
              "      <td>Responsive Web Design Overview For Beginners</td>\n",
              "    </tr>\n",
              "    <tr>\n",
              "      <th>3</th>\n",
              "      <td>3.97</td>\n",
              "      <td>1658</td>\n",
              "      <td>Ghost in the Wires: My Adventures as the World...</td>\n",
              "    </tr>\n",
              "    <tr>\n",
              "      <th>4</th>\n",
              "      <td>4.06</td>\n",
              "      <td>1325</td>\n",
              "      <td>How Google Works</td>\n",
              "    </tr>\n",
              "  </tbody>\n",
              "</table>\n",
              "</div>\n",
              "      <button class=\"colab-df-convert\" onclick=\"convertToInteractive('df-42f67a3a-3a94-4569-acaf-219a7d21103f')\"\n",
              "              title=\"Convert this dataframe to an interactive table.\"\n",
              "              style=\"display:none;\">\n",
              "\n",
              "  <svg xmlns=\"http://www.w3.org/2000/svg\" height=\"24px\"viewBox=\"0 0 24 24\"\n",
              "       width=\"24px\">\n",
              "    <path d=\"M0 0h24v24H0V0z\" fill=\"none\"/>\n",
              "    <path d=\"M18.56 5.44l.94 2.06.94-2.06 2.06-.94-2.06-.94-.94-2.06-.94 2.06-2.06.94zm-11 1L8.5 8.5l.94-2.06 2.06-.94-2.06-.94L8.5 2.5l-.94 2.06-2.06.94zm10 10l.94 2.06.94-2.06 2.06-.94-2.06-.94-.94-2.06-.94 2.06-2.06.94z\"/><path d=\"M17.41 7.96l-1.37-1.37c-.4-.4-.92-.59-1.43-.59-.52 0-1.04.2-1.43.59L10.3 9.45l-7.72 7.72c-.78.78-.78 2.05 0 2.83L4 21.41c.39.39.9.59 1.41.59.51 0 1.02-.2 1.41-.59l7.78-7.78 2.81-2.81c.8-.78.8-2.07 0-2.86zM5.41 20L4 18.59l7.72-7.72 1.47 1.35L5.41 20z\"/>\n",
              "  </svg>\n",
              "      </button>\n",
              "\n",
              "\n",
              "\n",
              "    <div id=\"df-bf6eba0c-b67c-4074-98bc-47fdbd5c8226\">\n",
              "      <button class=\"colab-df-quickchart\" onclick=\"quickchart('df-bf6eba0c-b67c-4074-98bc-47fdbd5c8226')\"\n",
              "              title=\"Suggest charts.\"\n",
              "              style=\"display:none;\">\n",
              "\n",
              "<svg xmlns=\"http://www.w3.org/2000/svg\" height=\"24px\"viewBox=\"0 0 24 24\"\n",
              "     width=\"24px\">\n",
              "    <g>\n",
              "        <path d=\"M19 3H5c-1.1 0-2 .9-2 2v14c0 1.1.9 2 2 2h14c1.1 0 2-.9 2-2V5c0-1.1-.9-2-2-2zM9 17H7v-7h2v7zm4 0h-2V7h2v10zm4 0h-2v-4h2v4z\"/>\n",
              "    </g>\n",
              "</svg>\n",
              "      </button>\n",
              "    </div>\n",
              "\n",
              "<style>\n",
              "  .colab-df-quickchart {\n",
              "    background-color: #E8F0FE;\n",
              "    border: none;\n",
              "    border-radius: 50%;\n",
              "    cursor: pointer;\n",
              "    display: none;\n",
              "    fill: #1967D2;\n",
              "    height: 32px;\n",
              "    padding: 0 0 0 0;\n",
              "    width: 32px;\n",
              "  }\n",
              "\n",
              "  .colab-df-quickchart:hover {\n",
              "    background-color: #E2EBFA;\n",
              "    box-shadow: 0px 1px 2px rgba(60, 64, 67, 0.3), 0px 1px 3px 1px rgba(60, 64, 67, 0.15);\n",
              "    fill: #174EA6;\n",
              "  }\n",
              "\n",
              "  [theme=dark] .colab-df-quickchart {\n",
              "    background-color: #3B4455;\n",
              "    fill: #D2E3FC;\n",
              "  }\n",
              "\n",
              "  [theme=dark] .colab-df-quickchart:hover {\n",
              "    background-color: #434B5C;\n",
              "    box-shadow: 0px 1px 3px 1px rgba(0, 0, 0, 0.15);\n",
              "    filter: drop-shadow(0px 1px 2px rgba(0, 0, 0, 0.3));\n",
              "    fill: #FFFFFF;\n",
              "  }\n",
              "</style>\n",
              "\n",
              "    <script>\n",
              "      async function quickchart(key) {\n",
              "        const containerElement = document.querySelector('#' + key);\n",
              "        const charts = await google.colab.kernel.invokeFunction(\n",
              "            'suggestCharts', [key], {});\n",
              "      }\n",
              "    </script>\n",
              "\n",
              "      <script>\n",
              "\n",
              "function displayQuickchartButton(domScope) {\n",
              "  let quickchartButtonEl =\n",
              "    domScope.querySelector('#df-bf6eba0c-b67c-4074-98bc-47fdbd5c8226 button.colab-df-quickchart');\n",
              "  quickchartButtonEl.style.display =\n",
              "    google.colab.kernel.accessAllowed ? 'block' : 'none';\n",
              "}\n",
              "\n",
              "        displayQuickchartButton(document);\n",
              "      </script>\n",
              "      <style>\n",
              "    .colab-df-container {\n",
              "      display:flex;\n",
              "      flex-wrap:wrap;\n",
              "      gap: 12px;\n",
              "    }\n",
              "\n",
              "    .colab-df-convert {\n",
              "      background-color: #E8F0FE;\n",
              "      border: none;\n",
              "      border-radius: 50%;\n",
              "      cursor: pointer;\n",
              "      display: none;\n",
              "      fill: #1967D2;\n",
              "      height: 32px;\n",
              "      padding: 0 0 0 0;\n",
              "      width: 32px;\n",
              "    }\n",
              "\n",
              "    .colab-df-convert:hover {\n",
              "      background-color: #E2EBFA;\n",
              "      box-shadow: 0px 1px 2px rgba(60, 64, 67, 0.3), 0px 1px 3px 1px rgba(60, 64, 67, 0.15);\n",
              "      fill: #174EA6;\n",
              "    }\n",
              "\n",
              "    [theme=dark] .colab-df-convert {\n",
              "      background-color: #3B4455;\n",
              "      fill: #D2E3FC;\n",
              "    }\n",
              "\n",
              "    [theme=dark] .colab-df-convert:hover {\n",
              "      background-color: #434B5C;\n",
              "      box-shadow: 0px 1px 3px 1px rgba(0, 0, 0, 0.15);\n",
              "      filter: drop-shadow(0px 1px 2px rgba(0, 0, 0, 0.3));\n",
              "      fill: #FFFFFF;\n",
              "    }\n",
              "  </style>\n",
              "\n",
              "      <script>\n",
              "        const buttonEl =\n",
              "          document.querySelector('#df-42f67a3a-3a94-4569-acaf-219a7d21103f button.colab-df-convert');\n",
              "        buttonEl.style.display =\n",
              "          google.colab.kernel.accessAllowed ? 'block' : 'none';\n",
              "\n",
              "        async function convertToInteractive(key) {\n",
              "          const element = document.querySelector('#df-42f67a3a-3a94-4569-acaf-219a7d21103f');\n",
              "          const dataTable =\n",
              "            await google.colab.kernel.invokeFunction('convertToInteractive',\n",
              "                                                     [key], {});\n",
              "          if (!dataTable) return;\n",
              "\n",
              "          const docLinkHtml = 'Like what you see? Visit the ' +\n",
              "            '<a target=\"_blank\" href=https://colab.research.google.com/notebooks/data_table.ipynb>data table notebook</a>'\n",
              "            + ' to learn more about interactive tables.';\n",
              "          element.innerHTML = '';\n",
              "          dataTable['output_type'] = 'display_data';\n",
              "          await google.colab.output.renderOutput(dataTable, element);\n",
              "          const docLink = document.createElement('div');\n",
              "          docLink.innerHTML = docLinkHtml;\n",
              "          element.appendChild(docLink);\n",
              "        }\n",
              "      </script>\n",
              "    </div>\n",
              "  </div>\n"
            ]
          },
          "metadata": {},
          "execution_count": 10
        }
      ]
    },
    {
      "cell_type": "markdown",
      "source": [
        "Adicionalmente, podemos derivar nuevas columnas al dataset. En este caso, vamos a categorizar el _rating_ de cada libro."
      ],
      "metadata": {
        "id": "tYqOXsqG8gXV"
      }
    },
    {
      "cell_type": "code",
      "source": [
        "def CalificacionLibro(rating):\n",
        "    if rating >= 4.5:\n",
        "        return 'Muy buena'\n",
        "    if rating >= 4:\n",
        "        return 'Buena'\n",
        "    if rating >= 3.5:\n",
        "        return 'Normal'\n",
        "    return 'Mala'\n",
        "\n",
        "print(CalificacionLibro(1))\n",
        "print(CalificacionLibro(5))"
      ],
      "metadata": {
        "colab": {
          "base_uri": "https://localhost:8080/"
        },
        "id": "MvWx9eaU8XtR",
        "outputId": "54dc8429-d327-4710-d7e0-ec8718d6e1d8"
      },
      "execution_count": null,
      "outputs": [
        {
          "output_type": "stream",
          "name": "stdout",
          "text": [
            "Mala\n",
            "Muy buena\n"
          ]
        }
      ]
    },
    {
      "cell_type": "markdown",
      "source": [
        "Con el comando `apply` podemos pedirle a pandas que \"aplique\" una función a cada dato de una columna. En este caso, se aplica la función `CalificacionLibro` a cada dato de la columna `Rating`. Luego, la respuesta a cada dato se guarda en una nueva columna llamada `Calificacion`."
      ],
      "metadata": {
        "id": "jG432ZAZ8jmX"
      }
    },
    {
      "cell_type": "code",
      "source": [
        "df['Calificacion'] = df['Rating'].apply(CalificacionLibro)\n",
        "df.head()"
      ],
      "metadata": {
        "colab": {
          "base_uri": "https://localhost:8080/",
          "height": 206
        },
        "id": "VAomOeId8hnb",
        "outputId": "bb099ac2-5c19-4526-fa68-a08493c0507d"
      },
      "execution_count": null,
      "outputs": [
        {
          "output_type": "execute_result",
          "data": {
            "text/plain": [
              "   Rating  Reviews                                         Book_title  \\\n",
              "0    4.17     3829                              The Elements of Style   \n",
              "1    4.01     1406      The Information: A History, a Theory, a Flood   \n",
              "2    3.33        0       Responsive Web Design Overview For Beginners   \n",
              "3    3.97     1658  Ghost in the Wires: My Adventures as the World...   \n",
              "4    4.06     1325                                   How Google Works   \n",
              "\n",
              "                                         Description  Number_Of_Pages  \\\n",
              "0  This style manual offers practical advice on i...              105   \n",
              "1  James Gleick, the author of the best sellers C...              527   \n",
              "2  In Responsive Web Design Overview For Beginner...               50   \n",
              "3  If they were a hall of fame or shame for compu...              393   \n",
              "4  Both Eric Schmidt and Jonathan Rosenberg came ...              305   \n",
              "\n",
              "             Type      Price Calificacion  \n",
              "0       Hardcover   9.323529        Buena  \n",
              "1       Hardcover  11.000000        Buena  \n",
              "2  Kindle Edition  11.267647         Mala  \n",
              "3       Hardcover  12.873529       Normal  \n",
              "4  Kindle Edition  13.164706        Buena  "
            ],
            "text/html": [
              "\n",
              "\n",
              "  <div id=\"df-837d4d89-c921-472e-94bf-15096d5a0607\">\n",
              "    <div class=\"colab-df-container\">\n",
              "      <div>\n",
              "<style scoped>\n",
              "    .dataframe tbody tr th:only-of-type {\n",
              "        vertical-align: middle;\n",
              "    }\n",
              "\n",
              "    .dataframe tbody tr th {\n",
              "        vertical-align: top;\n",
              "    }\n",
              "\n",
              "    .dataframe thead th {\n",
              "        text-align: right;\n",
              "    }\n",
              "</style>\n",
              "<table border=\"1\" class=\"dataframe\">\n",
              "  <thead>\n",
              "    <tr style=\"text-align: right;\">\n",
              "      <th></th>\n",
              "      <th>Rating</th>\n",
              "      <th>Reviews</th>\n",
              "      <th>Book_title</th>\n",
              "      <th>Description</th>\n",
              "      <th>Number_Of_Pages</th>\n",
              "      <th>Type</th>\n",
              "      <th>Price</th>\n",
              "      <th>Calificacion</th>\n",
              "    </tr>\n",
              "  </thead>\n",
              "  <tbody>\n",
              "    <tr>\n",
              "      <th>0</th>\n",
              "      <td>4.17</td>\n",
              "      <td>3829</td>\n",
              "      <td>The Elements of Style</td>\n",
              "      <td>This style manual offers practical advice on i...</td>\n",
              "      <td>105</td>\n",
              "      <td>Hardcover</td>\n",
              "      <td>9.323529</td>\n",
              "      <td>Buena</td>\n",
              "    </tr>\n",
              "    <tr>\n",
              "      <th>1</th>\n",
              "      <td>4.01</td>\n",
              "      <td>1406</td>\n",
              "      <td>The Information: A History, a Theory, a Flood</td>\n",
              "      <td>James Gleick, the author of the best sellers C...</td>\n",
              "      <td>527</td>\n",
              "      <td>Hardcover</td>\n",
              "      <td>11.000000</td>\n",
              "      <td>Buena</td>\n",
              "    </tr>\n",
              "    <tr>\n",
              "      <th>2</th>\n",
              "      <td>3.33</td>\n",
              "      <td>0</td>\n",
              "      <td>Responsive Web Design Overview For Beginners</td>\n",
              "      <td>In Responsive Web Design Overview For Beginner...</td>\n",
              "      <td>50</td>\n",
              "      <td>Kindle Edition</td>\n",
              "      <td>11.267647</td>\n",
              "      <td>Mala</td>\n",
              "    </tr>\n",
              "    <tr>\n",
              "      <th>3</th>\n",
              "      <td>3.97</td>\n",
              "      <td>1658</td>\n",
              "      <td>Ghost in the Wires: My Adventures as the World...</td>\n",
              "      <td>If they were a hall of fame or shame for compu...</td>\n",
              "      <td>393</td>\n",
              "      <td>Hardcover</td>\n",
              "      <td>12.873529</td>\n",
              "      <td>Normal</td>\n",
              "    </tr>\n",
              "    <tr>\n",
              "      <th>4</th>\n",
              "      <td>4.06</td>\n",
              "      <td>1325</td>\n",
              "      <td>How Google Works</td>\n",
              "      <td>Both Eric Schmidt and Jonathan Rosenberg came ...</td>\n",
              "      <td>305</td>\n",
              "      <td>Kindle Edition</td>\n",
              "      <td>13.164706</td>\n",
              "      <td>Buena</td>\n",
              "    </tr>\n",
              "  </tbody>\n",
              "</table>\n",
              "</div>\n",
              "      <button class=\"colab-df-convert\" onclick=\"convertToInteractive('df-837d4d89-c921-472e-94bf-15096d5a0607')\"\n",
              "              title=\"Convert this dataframe to an interactive table.\"\n",
              "              style=\"display:none;\">\n",
              "\n",
              "  <svg xmlns=\"http://www.w3.org/2000/svg\" height=\"24px\"viewBox=\"0 0 24 24\"\n",
              "       width=\"24px\">\n",
              "    <path d=\"M0 0h24v24H0V0z\" fill=\"none\"/>\n",
              "    <path d=\"M18.56 5.44l.94 2.06.94-2.06 2.06-.94-2.06-.94-.94-2.06-.94 2.06-2.06.94zm-11 1L8.5 8.5l.94-2.06 2.06-.94-2.06-.94L8.5 2.5l-.94 2.06-2.06.94zm10 10l.94 2.06.94-2.06 2.06-.94-2.06-.94-.94-2.06-.94 2.06-2.06.94z\"/><path d=\"M17.41 7.96l-1.37-1.37c-.4-.4-.92-.59-1.43-.59-.52 0-1.04.2-1.43.59L10.3 9.45l-7.72 7.72c-.78.78-.78 2.05 0 2.83L4 21.41c.39.39.9.59 1.41.59.51 0 1.02-.2 1.41-.59l7.78-7.78 2.81-2.81c.8-.78.8-2.07 0-2.86zM5.41 20L4 18.59l7.72-7.72 1.47 1.35L5.41 20z\"/>\n",
              "  </svg>\n",
              "      </button>\n",
              "\n",
              "\n",
              "\n",
              "    <div id=\"df-8acd012c-fd11-40c9-beaa-6e39399aff61\">\n",
              "      <button class=\"colab-df-quickchart\" onclick=\"quickchart('df-8acd012c-fd11-40c9-beaa-6e39399aff61')\"\n",
              "              title=\"Suggest charts.\"\n",
              "              style=\"display:none;\">\n",
              "\n",
              "<svg xmlns=\"http://www.w3.org/2000/svg\" height=\"24px\"viewBox=\"0 0 24 24\"\n",
              "     width=\"24px\">\n",
              "    <g>\n",
              "        <path d=\"M19 3H5c-1.1 0-2 .9-2 2v14c0 1.1.9 2 2 2h14c1.1 0 2-.9 2-2V5c0-1.1-.9-2-2-2zM9 17H7v-7h2v7zm4 0h-2V7h2v10zm4 0h-2v-4h2v4z\"/>\n",
              "    </g>\n",
              "</svg>\n",
              "      </button>\n",
              "    </div>\n",
              "\n",
              "<style>\n",
              "  .colab-df-quickchart {\n",
              "    background-color: #E8F0FE;\n",
              "    border: none;\n",
              "    border-radius: 50%;\n",
              "    cursor: pointer;\n",
              "    display: none;\n",
              "    fill: #1967D2;\n",
              "    height: 32px;\n",
              "    padding: 0 0 0 0;\n",
              "    width: 32px;\n",
              "  }\n",
              "\n",
              "  .colab-df-quickchart:hover {\n",
              "    background-color: #E2EBFA;\n",
              "    box-shadow: 0px 1px 2px rgba(60, 64, 67, 0.3), 0px 1px 3px 1px rgba(60, 64, 67, 0.15);\n",
              "    fill: #174EA6;\n",
              "  }\n",
              "\n",
              "  [theme=dark] .colab-df-quickchart {\n",
              "    background-color: #3B4455;\n",
              "    fill: #D2E3FC;\n",
              "  }\n",
              "\n",
              "  [theme=dark] .colab-df-quickchart:hover {\n",
              "    background-color: #434B5C;\n",
              "    box-shadow: 0px 1px 3px 1px rgba(0, 0, 0, 0.15);\n",
              "    filter: drop-shadow(0px 1px 2px rgba(0, 0, 0, 0.3));\n",
              "    fill: #FFFFFF;\n",
              "  }\n",
              "</style>\n",
              "\n",
              "    <script>\n",
              "      async function quickchart(key) {\n",
              "        const containerElement = document.querySelector('#' + key);\n",
              "        const charts = await google.colab.kernel.invokeFunction(\n",
              "            'suggestCharts', [key], {});\n",
              "      }\n",
              "    </script>\n",
              "\n",
              "      <script>\n",
              "\n",
              "function displayQuickchartButton(domScope) {\n",
              "  let quickchartButtonEl =\n",
              "    domScope.querySelector('#df-8acd012c-fd11-40c9-beaa-6e39399aff61 button.colab-df-quickchart');\n",
              "  quickchartButtonEl.style.display =\n",
              "    google.colab.kernel.accessAllowed ? 'block' : 'none';\n",
              "}\n",
              "\n",
              "        displayQuickchartButton(document);\n",
              "      </script>\n",
              "      <style>\n",
              "    .colab-df-container {\n",
              "      display:flex;\n",
              "      flex-wrap:wrap;\n",
              "      gap: 12px;\n",
              "    }\n",
              "\n",
              "    .colab-df-convert {\n",
              "      background-color: #E8F0FE;\n",
              "      border: none;\n",
              "      border-radius: 50%;\n",
              "      cursor: pointer;\n",
              "      display: none;\n",
              "      fill: #1967D2;\n",
              "      height: 32px;\n",
              "      padding: 0 0 0 0;\n",
              "      width: 32px;\n",
              "    }\n",
              "\n",
              "    .colab-df-convert:hover {\n",
              "      background-color: #E2EBFA;\n",
              "      box-shadow: 0px 1px 2px rgba(60, 64, 67, 0.3), 0px 1px 3px 1px rgba(60, 64, 67, 0.15);\n",
              "      fill: #174EA6;\n",
              "    }\n",
              "\n",
              "    [theme=dark] .colab-df-convert {\n",
              "      background-color: #3B4455;\n",
              "      fill: #D2E3FC;\n",
              "    }\n",
              "\n",
              "    [theme=dark] .colab-df-convert:hover {\n",
              "      background-color: #434B5C;\n",
              "      box-shadow: 0px 1px 3px 1px rgba(0, 0, 0, 0.15);\n",
              "      filter: drop-shadow(0px 1px 2px rgba(0, 0, 0, 0.3));\n",
              "      fill: #FFFFFF;\n",
              "    }\n",
              "  </style>\n",
              "\n",
              "      <script>\n",
              "        const buttonEl =\n",
              "          document.querySelector('#df-837d4d89-c921-472e-94bf-15096d5a0607 button.colab-df-convert');\n",
              "        buttonEl.style.display =\n",
              "          google.colab.kernel.accessAllowed ? 'block' : 'none';\n",
              "\n",
              "        async function convertToInteractive(key) {\n",
              "          const element = document.querySelector('#df-837d4d89-c921-472e-94bf-15096d5a0607');\n",
              "          const dataTable =\n",
              "            await google.colab.kernel.invokeFunction('convertToInteractive',\n",
              "                                                     [key], {});\n",
              "          if (!dataTable) return;\n",
              "\n",
              "          const docLinkHtml = 'Like what you see? Visit the ' +\n",
              "            '<a target=\"_blank\" href=https://colab.research.google.com/notebooks/data_table.ipynb>data table notebook</a>'\n",
              "            + ' to learn more about interactive tables.';\n",
              "          element.innerHTML = '';\n",
              "          dataTable['output_type'] = 'display_data';\n",
              "          await google.colab.output.renderOutput(dataTable, element);\n",
              "          const docLink = document.createElement('div');\n",
              "          docLink.innerHTML = docLinkHtml;\n",
              "          element.appendChild(docLink);\n",
              "        }\n",
              "      </script>\n",
              "    </div>\n",
              "  </div>\n"
            ]
          },
          "metadata": {},
          "execution_count": 12
        }
      ]
    },
    {
      "cell_type": "markdown",
      "source": [
        "# Gráfico de barra\n",
        "\n",
        "El gráfico de barras clásico utiliza barras horizontales o verticales para mostrar **comparaciones entre categorías**. Un eje del gráfico muestra las categorías específicas que se comparan y el otro eje representa una escala de valores numéricos.\n",
        "\n",
        "<img src=\"https://datavizcatalogue.com/ES/metodos/images/top_images/SVG/graficos_de_barras.svg\" width=\"550\"/>\n",
        "\n",
        "Para empezar, vamos a ver cuánto es el precio promedio (en dólares) de los libros separados según su calificación. Para esto, primero vamos a agrupar los datos por su calificación y para cada grupo, vamos a seleccionar la columna `Price` y calcular su promedio (`mean()`)."
      ],
      "metadata": {
        "id": "Hn1Tha008mmT"
      }
    },
    {
      "cell_type": "code",
      "source": [
        "precio_por_calificacion = df.groupby('Calificacion')['Price'].mean()\n",
        "\n",
        "print(precio_por_calificacion)"
      ],
      "metadata": {
        "colab": {
          "base_uri": "https://localhost:8080/"
        },
        "id": "CK3mVHJ38k9y",
        "outputId": "e5141bd6-3e65-472c-dd1c-9ec7d0716a15"
      },
      "execution_count": null,
      "outputs": [
        {
          "output_type": "stream",
          "name": "stdout",
          "text": [
            "Calificacion\n",
            "Buena        54.025343\n",
            "Mala         50.960695\n",
            "Muy buena    58.243873\n",
            "Normal       55.544662\n",
            "Name: Price, dtype: float64\n"
          ]
        }
      ]
    },
    {
      "cell_type": "markdown",
      "source": [
        "Los datos igual son bien cercanos, mejor vamos a verlos de forma visual. Para ello, vamos a obtener el precio por calificación y vamos a graficarlo con el comando `plot.bar()`. En dicha función vamos a setear **2 parámatros**:\n",
        "\n",
        "1. El color de las barras que será `cyan`.\n",
        "2. El título del gráfico que será `\"Precio promedio por calificación\"`.\n",
        "\n",
        "Adicionalmente, vamos a indicar el título que tendrá cada eje. Para esto, usamos las funciones `set_xlabel` y `set_ylabel`."
      ],
      "metadata": {
        "id": "2bj5PIfx8-xK"
      }
    },
    {
      "cell_type": "code",
      "source": [
        "precio_por_calificacion = df.groupby('Calificacion')['Price'].mean()\n",
        "\n",
        "# Graficamos ahora el arreglo resultante\n",
        "ax = precio_por_calificacion.plot.bar(\n",
        "    color = 'cyan',\n",
        "    title = 'Precio promedio por calificación'\n",
        "    )\n",
        "\n",
        "ax.set_xlabel(\"Calificación\")\n",
        "ax.set_ylabel(\"Precio promedio\")\n",
        "\n",
        "plt.show()"
      ],
      "metadata": {
        "colab": {
          "base_uri": "https://localhost:8080/",
          "height": 627
        },
        "id": "RH_h8JWC89r_",
        "outputId": "83f79c0e-2a91-4662-83e5-e51042cc33eb"
      },
      "execution_count": null,
      "outputs": [
        {
          "output_type": "display_data",
          "data": {
            "text/plain": [
              "<Figure size 1200x600 with 1 Axes>"
            ],
            "image/png": "[encoded data removed]"
          },
          "metadata": {}
        }
      ]
    },
    {
      "cell_type": "markdown",
      "source": [
        "¿Que tal será el número de página promedio por calificación? ¿y si queremos un gráfico horizontal? Veamos ambas opciones en el siguiente gráfico. Solo tenemos que:\n",
        "- Cambiar el parámetro a cual calcular el promedio. En este caso debemos usar `Number_Of_Pages`.\n",
        "- Cambiar `bar`, por `barh`."
      ],
      "metadata": {
        "id": "HUbF2hLS9CIZ"
      }
    },
    {
      "cell_type": "code",
      "source": [
        "numero_pagina_por_calificacion = df.groupby('Calificacion')['Number_Of_Pages'].mean()\n",
        "\n",
        "# Si hacemos barh en vez de bar, tendremos el gráfico de forma horizontal.\n",
        "ax = numero_pagina_por_calificacion.plot.barh(\n",
        "    color = 'magenta',\n",
        "    title = 'Número de páginas promedio por Calificación'\n",
        "    )\n",
        "\n",
        "ax.set_xlabel(\"Calificación\")\n",
        "ax.set_ylabel(\"Número de páginas promedio\")\n",
        "\n",
        "plt.show()"
      ],
      "metadata": {
        "colab": {
          "base_uri": "https://localhost:8080/",
          "height": 565
        },
        "id": "oKFM3GyT9AoL",
        "outputId": "3740d6e3-d127-4f10-a1f0-8b10753584f2"
      },
      "execution_count": null,
      "outputs": [
        {
          "output_type": "display_data",
          "data": {
            "text/plain": [
              "<Figure size 1200x600 with 1 Axes>"
            ],
            "image/png": "[encoded data removed]"
          },
          "metadata": {}
        }
      ]
    },
    {
      "cell_type": "markdown",
      "source": [
        "¿Y si queremos un gráfico ordenado? Entonces usamos la función `sort_values` para ordenar los datos."
      ],
      "metadata": {
        "id": "Fd36RgX-9Elw"
      }
    },
    {
      "cell_type": "code",
      "source": [
        "numero_pagina_por_calificacion = df.groupby('Calificacion')['Number_Of_Pages'].mean()\n",
        "\n",
        "# Nueva línea para ordenar\n",
        "numero_pagina_por_calificacion = numero_pagina_por_calificacion.sort_values()\n",
        "\n",
        "ax = numero_pagina_por_calificacion.plot.barh(\n",
        "    color = 'magenta',\n",
        "    title = 'Número de páginas promedio por Calificación'\n",
        "    )\n",
        "\n",
        "ax.set_xlabel(\"Calificación\")\n",
        "ax.set_ylabel(\"Número de páginas promedio\")\n",
        "\n",
        "plt.show()"
      ],
      "metadata": {
        "colab": {
          "base_uri": "https://localhost:8080/",
          "height": 565
        },
        "id": "3U3WIXLC9DNP",
        "outputId": "c66e9a23-eb1a-4e2a-fb3d-2adffed1bc9b"
      },
      "execution_count": null,
      "outputs": [
        {
          "output_type": "display_data",
          "data": {
            "text/plain": [
              "<Figure size 1200x600 with 1 Axes>"
            ],
            "image/png": "[encoded data removed]"
          },
          "metadata": {}
        }
      ]
    },
    {
      "cell_type": "markdown",
      "source": [
        "También podemos agregar el valor exacto de cada barra. Desde la versión 3.4 de matplotlib se agregó una nueva función llamada `bar_label` para poder incluir el valor de las barras."
      ],
      "metadata": {
        "id": "F-kr6X5mFYUL"
      }
    },
    {
      "cell_type": "code",
      "source": [
        "numero_pagina_por_calificacion = df.groupby('Calificacion')['Number_Of_Pages'].mean()\n",
        "numero_pagina_por_calificacion = numero_pagina_por_calificacion.sort_values()\n",
        "\n",
        "ax = numero_pagina_por_calificacion.plot.barh(\n",
        "    color = 'magenta',\n",
        "    title = 'Número de páginas promedio por Calificación'\n",
        "    )\n",
        "\n",
        "# Esta línea agregará los valores en cada barra\n",
        "# fmt='%.2f' -> 2 decimales\n",
        "ax.bar_label(ax.containers[0], fmt='%.2f', label_type=\"center\",\n",
        "             padding=8, fontsize=14)\n",
        "\n",
        "ax.set_xlabel(\"Calificación\")\n",
        "ax.set_ylabel(\"Número de páginas promedio\")\n",
        "\n",
        "plt.show()"
      ],
      "metadata": {
        "colab": {
          "base_uri": "https://localhost:8080/",
          "height": 565
        },
        "id": "4Tiowta0H0TH",
        "outputId": "8eccb448-1471-4a36-a384-28e071194bdc"
      },
      "execution_count": null,
      "outputs": [
        {
          "output_type": "display_data",
          "data": {
            "text/plain": [
              "<Figure size 1200x600 with 1 Axes>"
            ],
            "image/png": "[encoded data removed]"
          },
          "metadata": {}
        }
      ]
    },
    {
      "cell_type": "markdown",
      "source": [
        "# Histograma\n",
        "\n",
        "Un histograma visualiza la **distribución de los datos a lo largo de un intervalo**. Cada barra en un histograma representa la **frecuencia** en cada intervalo/bin. El área total del histograma es igual al número de datos. Si bien utiliza las mismas marcas que un gráfico de barra, la interpretación de su información será distinta.\n",
        "\n",
        "<img src=\"https://datavizcatalogue.com/ES/metodos/images/top_images/SVG/histograma.svg\" width=\"550\"/>\n",
        "\n",
        "Lo primero que haremos es ver cómo distribuye la cantidad de hojas en los libros de computación. Para eso, ocupamos el comando `distplot`."
      ],
      "metadata": {
        "id": "QrkBuCLX9HFx"
      }
    },
    {
      "cell_type": "code",
      "source": [
        "# Veremos la distribución de la variable Number_Of_Pages (número de páginas)\n",
        "# con un histograma\n",
        "ax = sns.distplot(df[\"Number_Of_Pages\"])"
      ],
      "metadata": {
        "colab": {
          "base_uri": "https://localhost:8080/",
          "height": 733
        },
        "id": "0kGpIgnA9Fnk",
        "outputId": "bfa33cc2-022f-4868-fa74-6c68e3f68830"
      },
      "execution_count": null,
      "outputs": [
        {
          "output_type": "stream",
          "name": "stderr",
          "text": [
            "<ipython-input-18-b522bab45efb>:3: UserWarning: \n",
            "\n",
            "`distplot` is a deprecated function and will be removed in seaborn v0.14.0.\n",
            "\n",
            "Please adapt your code to use either `displot` (a figure-level function with\n",
            "similar flexibility) or `histplot` (an axes-level function for histograms).\n",
            "\n",
            "For a guide to updating your code to use the new functions, please see\n",
            "https://gist.github.com/mwaskom/de44147ed2974457ad6372750bbe5751\n",
            "\n",
            "  ax = sns.distplot(df[\"Number_Of_Pages\"])\n"
          ]
        },
        {
          "output_type": "display_data",
          "data": {
            "text/plain": [
              "<Figure size 1200x600 with 1 Axes>"
            ],
            "image/png": "[encoded data removed]"
          },
          "metadata": {}
        }
      ]
    },
    {
      "cell_type": "markdown",
      "source": [
        "### ⚠ Ojo: nos aparece un _warning_\n",
        "Esto nos indica que en las futuras versiones de la librería Seaborn, está función ya no estará disponible. Por ello, el mismo _warning_ nos sugiere cambiarlo por `displot` (antes era `distplot`) o `histplot`. En este caso usaremos el segundo."
      ],
      "metadata": {
        "id": "H_SvLo279LEZ"
      }
    },
    {
      "cell_type": "code",
      "source": [
        "ax = sns.histplot(df[\"Number_Of_Pages\"])"
      ],
      "metadata": {
        "colab": {
          "base_uri": "https://localhost:8080/",
          "height": 542
        },
        "id": "LVtE2TFS9Ic7",
        "outputId": "93e1e369-d513-40e8-9a7a-2f2763ade67e"
      },
      "execution_count": null,
      "outputs": [
        {
          "output_type": "display_data",
          "data": {
            "text/plain": [
              "<Figure size 1200x600 with 1 Axes>"
            ],
            "image/png": "[encoded data removed]"
          },
          "metadata": {}
        }
      ]
    },
    {
      "cell_type": "markdown",
      "source": [
        "La línea de densidad ya no es por defecto. Por lo tanto, si queremos verla debemos activarla con el parámetro `kde=True`."
      ],
      "metadata": {
        "id": "saQfLfj39O4x"
      }
    },
    {
      "cell_type": "code",
      "source": [
        "ax = sns.histplot(df[\"Number_Of_Pages\"], kde=True)"
      ],
      "metadata": {
        "colab": {
          "base_uri": "https://localhost:8080/",
          "height": 542
        },
        "id": "j7WCiSku9Nan",
        "outputId": "519a7460-fb97-40f4-97e2-a997b3f23262"
      },
      "execution_count": null,
      "outputs": [
        {
          "output_type": "display_data",
          "data": {
            "text/plain": [
              "<Figure size 1200x600 with 1 Axes>"
            ],
            "image/png": "[encoded data removed]"
          },
          "metadata": {}
        }
      ]
    },
    {
      "cell_type": "markdown",
      "source": [
        "Ahora, si queremos ver 2 histogramas superpuestos, podemos llamar 2 veces a la función `histplot`. Adicionalmente, vamos a setear 2 parámetros más:\n",
        "\n",
        "1. `Color` para indicar el color de las barras.\n",
        "2. `label` para indicar qué etiqueta poner a este gráfico en el caso de mostrar la leyenda.\n",
        "\n",
        "Finalmente usamos `plt.legend` para pedirle a matplotlib que incluya la legenda en esta visualización."
      ],
      "metadata": {
        "id": "kimPE2FQ9SnG"
      }
    },
    {
      "cell_type": "code",
      "source": [
        "# Ahora, por defecto ya no veremos la función de densidad de probabilidad.\n",
        "# Si queremos agregarla, usamos el atributo kde = True.\n",
        "\n",
        "sns.histplot(\n",
        "    df[df.Calificacion == \"Buena\"].Number_Of_Pages,\n",
        "    color=\"purple\",\n",
        "    label=\"Número de páginas libros Buenos\"\n",
        "    )\n",
        "sns.histplot(\n",
        "    df[df.Calificacion == \"Normal\"].Number_Of_Pages,\n",
        "    color=\"orange\",\n",
        "    label=\"Número de páginas libros Normales\"\n",
        "    )\n",
        "\n",
        "plt.legend()\n",
        "\n",
        "plt.show()"
      ],
      "metadata": {
        "colab": {
          "base_uri": "https://localhost:8080/",
          "height": 542
        },
        "id": "XVLwZXZ29REM",
        "outputId": "55477fa0-b7a6-4a36-e99a-57c00747e052"
      },
      "execution_count": null,
      "outputs": [
        {
          "output_type": "display_data",
          "data": {
            "text/plain": [
              "<Figure size 1200x600 with 1 Axes>"
            ],
            "image/png": "[encoded data removed]"
          },
          "metadata": {}
        }
      ]
    },
    {
      "cell_type": "markdown",
      "source": [
        "# Gráfico de Caja\n",
        "\n",
        "Un diagrama de cajas y bigotes es una manera conveniente de mostrar visualmente grupos de datos numéricos a través de sus cuartiles.\n",
        "\n",
        "Las líneas que se extienden paralelas a las cajas se conocen como «bigotes», y se usan para indicar variabilidad fuera de los cuartiles superior e inferior. Los valores atípicos se representan a veces como puntos individuales que están en línea con los bigotes. Los diagramas de cajas y bigotes se pueden dibujar vertical u horizontalmente.\n",
        "\n",
        "<img src=\"https://datavizcatalogue.com/ES/metodos/images/top_images/SVG/diagrama_cajas_y_bigotes.svg\" width=\"550\"/>\n",
        "\n",
        "Anteriormente vimos cómo distribuye el precio en función de la frecuencia de datos. Ahora vamos a observar esa misma información pero con un gráfico de caja. Para esto, utilizamos la función `boxplot`."
      ],
      "metadata": {
        "id": "UVUAJWnk9i2i"
      }
    },
    {
      "cell_type": "code",
      "source": [
        "# Veremos la distribución de la variable Price (precio en dólares) con un gráfico de caja.\n",
        "ax = sns.boxplot(df.Price)"
      ],
      "metadata": {
        "colab": {
          "base_uri": "https://localhost:8080/",
          "height": 522
        },
        "id": "2RicnlTF94jE",
        "outputId": "4836918d-3e51-4d20-fb91-6e45acca8317"
      },
      "execution_count": null,
      "outputs": [
        {
          "output_type": "display_data",
          "data": {
            "text/plain": [
              "<Figure size 1200x600 with 1 Axes>"
            ],
            "image/png": "[encoded data removed]"
          },
          "metadata": {}
        }
      ]
    },
    {
      "cell_type": "markdown",
      "source": [
        "Si queremos que el gráfico sea horizontal, agregamos el parámetro que indica el eje a utilizar (`y=`). Adicionalmente vamos a cambiarle el color con el parámetro `color`."
      ],
      "metadata": {
        "id": "NT7lslpx-Agp"
      }
    },
    {
      "cell_type": "code",
      "source": [
        "ax = sns.boxplot(\n",
        "    x=df.Price,\n",
        "    color=\"Cyan\"\n",
        "    )"
      ],
      "metadata": {
        "colab": {
          "base_uri": "https://localhost:8080/",
          "height": 542
        },
        "id": "xU1ObtGY9hV9",
        "outputId": "248ef937-6ad2-41b0-ecec-f931e2da8f18"
      },
      "execution_count": null,
      "outputs": [
        {
          "output_type": "display_data",
          "data": {
            "text/plain": [
              "<Figure size 1200x600 with 1 Axes>"
            ],
            "image/png": "[encoded data removed]"
          },
          "metadata": {}
        }
      ]
    },
    {
      "cell_type": "markdown",
      "source": [
        "Ver solo 1 caja a veces no nos da mucha información. Por lo mismo, vamos a ver si hay una diferencia de distribuciones en el precio de los libros según el tipo de libro. Para eso, vamos a cambiar un poco la forma de como usar `boxplot`. Ya no vamos a entregar los datos en el eje `x=` o `y=`, sino que entregamos **todo el dataset** en el parámetro `data` y con los parámetros `x`, `y` indicamos el nombre de las columnas a utilizar. De esta forma, seaborn se encarga de agrupar los datos según el eje que tenga el atributo categórico.\n",
        "\n",
        "Adicionalmente, vamos a indicarle a seaborn que utilice otra paleta de colores para pintar las cajas. Para esto está el parámetro `palette` donde le damos algún valor de los que salen en el siguiente enlace: https://matplotlib.org/stable/tutorials/colors/colormaps.html"
      ],
      "metadata": {
        "id": "s1luxurZ-j_d"
      }
    },
    {
      "cell_type": "code",
      "source": [
        "sns.boxplot(\n",
        "    x=\"Type\",\n",
        "    y=\"Price\",\n",
        "    data=df,\n",
        "    palette=\"Set2\"\n",
        "    )"
      ],
      "metadata": {
        "colab": {
          "base_uri": "https://localhost:8080/",
          "height": 559
        },
        "id": "xZCAZnwJ9kbx",
        "outputId": "fad7ce9d-54ad-4f82-ad66-b9704c6d65c7"
      },
      "execution_count": null,
      "outputs": [
        {
          "output_type": "execute_result",
          "data": {
            "text/plain": [
              "<Axes: xlabel='Type', ylabel='Price'>"
            ]
          },
          "metadata": {},
          "execution_count": 24
        },
        {
          "output_type": "display_data",
          "data": {
            "text/plain": [
              "<Figure size 1200x600 with 1 Axes>"
            ],
            "image/png": "[encoded data removed]"
          },
          "metadata": {}
        }
      ]
    },
    {
      "cell_type": "markdown",
      "source": [
        "Si queremos ver las cajas de forma horizontal, solo intercambios el `x=` e `y=`."
      ],
      "metadata": {
        "id": "b_ajx4Zu-vli"
      }
    },
    {
      "cell_type": "code",
      "source": [
        "# Antes - sns.boxplot(x=\"Type\", y=\"Price\", data=df, palette=\"Set2\")\n",
        "sns.boxplot(\n",
        "    x=\"Price\",\n",
        "    y=\"Type\",\n",
        "    data=df,\n",
        "    palette=\"Set2\"\n",
        "    )\n",
        "\n",
        "plt.show()"
      ],
      "metadata": {
        "colab": {
          "base_uri": "https://localhost:8080/",
          "height": 542
        },
        "id": "Qmg6ZkZv-tZx",
        "outputId": "127813e1-151c-457e-e645-137c3cca57ee"
      },
      "execution_count": null,
      "outputs": [
        {
          "output_type": "display_data",
          "data": {
            "text/plain": [
              "<Figure size 1200x600 with 1 Axes>"
            ],
            "image/png": "[encoded data removed]"
          },
          "metadata": {}
        }
      ]
    },
    {
      "cell_type": "markdown",
      "source": [
        "# Gráfico de Violin\n",
        "\n",
        "Un diagrama de violín se utiliza para visualizar la distribución de los datos y su densidad de probabilidad.\n",
        "\n",
        "Este gráfico es una combinación de un diagrama de cajas y bigotes y un diagrama de densidad girado y colocado a cada lado, para mostrar la forma de distribución de los datos.\n",
        "\n",
        "<img src=\"https://datavizcatalogue.com/ES/metodos/images/top_images/SVG/diagrama_de_violin.svg\" width=\"550\"/>\n",
        "\n",
        "La función para hacer este tipo de gráfico se llama `violinplot` y se ocupa **exactamente igual** al `boxplot`. Es decir, entregamos el dataset al parámetro `data`, e indicamos las columnas a ocupar con `x` e `y`."
      ],
      "metadata": {
        "id": "b6uL5TzQ_A1L"
      }
    },
    {
      "cell_type": "code",
      "source": [
        "sns.violinplot(\n",
        "    x=\"Price\",\n",
        "    y=\"Type\",\n",
        "    data=df,\n",
        "    palette=\"Set1\"\n",
        "    )"
      ],
      "metadata": {
        "colab": {
          "base_uri": "https://localhost:8080/",
          "height": 559
        },
        "id": "BsNuY2lg-xZf",
        "outputId": "68925c45-5153-473c-fef7-f3e6eef3620f"
      },
      "execution_count": null,
      "outputs": [
        {
          "output_type": "execute_result",
          "data": {
            "text/plain": [
              "<Axes: xlabel='Price', ylabel='Type'>"
            ]
          },
          "metadata": {},
          "execution_count": 26
        },
        {
          "output_type": "display_data",
          "data": {
            "text/plain": [
              "<Figure size 1200x600 with 1 Axes>"
            ],
            "image/png": "[encoded data removed]"
          },
          "metadata": {}
        }
      ]
    },
    {
      "cell_type": "markdown",
      "source": [
        "Si queremos ver solo 1 diagrama de violin, hacemos lo mismo que el caso del `boxplot`. Entregamos los datos que deseamos al parámetro `x` o `y`. Recordar que `y` se ocupa si queremos el gráfico vertical y `x` si lo queremos horizontal."
      ],
      "metadata": {
        "id": "iwxWPv3O_EFo"
      }
    },
    {
      "cell_type": "code",
      "source": [
        "sns.violinplot(\n",
        "    y=df.Price,\n",
        "    color=\"red\"\n",
        "    )\n",
        "\n",
        "plt.show()"
      ],
      "metadata": {
        "colab": {
          "base_uri": "https://localhost:8080/",
          "height": 503
        },
        "id": "BFn9dEmC_CPN",
        "outputId": "c89a9ca2-569b-4682-bbcd-b5f2e56ea39b"
      },
      "execution_count": null,
      "outputs": [
        {
          "output_type": "display_data",
          "data": {
            "text/plain": [
              "<Figure size 1200x600 with 1 Axes>"
            ],
            "image/png": "[encoded data removed]"
          },
          "metadata": {}
        }
      ]
    },
    {
      "cell_type": "markdown",
      "source": [
        "### Gráfico de Caja VS Gráfico de Violin\n",
        "\n",
        "Pero ¿cómo se compara este gráfico con el gráfico de caja que hicimos antes?\n",
        "\n",
        "Intentemos comparalos al mismo tiempo con `subplots` y seaborn.\n",
        "\n",
        "**⚠ Cuidado** `subplots` con seaborn es distinto a hacer `subplots` con matplotlib.\n",
        "\n",
        "Primero usamos `subplots` para indicar que haremos una grilla de 1x2, es decir, 1 fila de 2 columnas. Además, hacemos `sharey=True` para indicar que ambos deben tener el mismo eje Y. Esta función nos retorna 2 elementos:\n",
        "- `fig`. Este objeto nos sirve para trabajar con toda la visualización. Lo típico es usar este elemento para definir un título general.\n",
        "- `charts`. Este elemento es una lista con el gráfico de cada posición.\n",
        "\n",
        "Luego, usamos los comandos `boxplot` y `violinplot` tal como lo hicimos antes. La diferencia que ahora usamos el parámetro `ax=charts[x]` para indicar que la visualización la debe poner en dicha casilla. `charts[0]` apunta la primera posición (el de la izquieda) y `charts[1]` apunta a la segunda posición (el de la derecha).\n",
        "\n",
        "Finalmente, usamos `fig.suptitle` para definir el título general de la visualización."
      ],
      "metadata": {
        "id": "EV4sYdifAMlG"
      }
    },
    {
      "cell_type": "code",
      "source": [
        "fig, charts = plt.subplots(1,2, sharey=True)\n",
        "\n",
        "sns.boxplot(y=df.Price, color=\"cyan\", ax=charts[0])\n",
        "sns.violinplot(y=df.Price, color=\"yellow\", ax=charts[1])\n",
        "\n",
        "fig.suptitle('Boxplot VS Violinplot')"
      ],
      "metadata": {
        "colab": {
          "base_uri": "https://localhost:8080/",
          "height": 580
        },
        "id": "0vUGVFHn_JNp",
        "outputId": "f73d414d-9cc7-4903-8966-688c4ff1446d"
      },
      "execution_count": null,
      "outputs": [
        {
          "output_type": "execute_result",
          "data": {
            "text/plain": [
              "Text(0.5, 0.98, 'Boxplot VS Violinplot')"
            ]
          },
          "metadata": {},
          "execution_count": 28
        },
        {
          "output_type": "display_data",
          "data": {
            "text/plain": [
              "<Figure size 1200x600 with 2 Axes>"
            ],
            "image/png": "[encoded data removed]"
          },
          "metadata": {}
        }
      ]
    },
    {
      "cell_type": "markdown",
      "source": [
        "\n",
        "![Gráfico de caja VS de torta](https://miro.medium.com/max/520/1*TTMOaNG1o4PgQd-e8LurMg.png)\n",
        "Fuente: https://towardsdatascience.com/violin-plots-explained-fb1d115e023d"
      ],
      "metadata": {
        "id": "f8uwx1VnASUn"
      }
    },
    {
      "cell_type": "markdown",
      "source": [
        "# Gráfico de Torta\n",
        "\n",
        "Gráfico usado extensamente en presentaciones y oficinas. Cada longitud de arco representa una proporción de cada categoría, mientras que el círculo completo representa la suma total de todos los datos, igual al 100%. Es una visualización ideal para **presentar la proporcion de los datos** cuando estamos frente a **pocas categorías**.\n",
        "\n",
        "<img src=\"https://datavizcatalogue.com/ES/metodos/images/top_images/SVG/graficos_de_tarta.svg\" width=\"550\"/>\n",
        "\n",
        "Para esta visualización, vamos a ver como es la proporción de libros según la calificación, pero no con fines de **comparar**, sino solo para tener una noción de los datos. Para esto, agrupamos el dataset por la columna `Calificacion` y le pedimos a pandas que para cada grupo cuenta la cantidad de items (`size`).\n",
        "\n",
        "Adicionalmente, queremos ver los datos en términos de porcentaje. Así que dividimos todo por la cantidad total de libros."
      ],
      "metadata": {
        "id": "_IN35mGnAUoK"
      }
    },
    {
      "cell_type": "code",
      "source": [
        "# Agrupamos por el dato en común y contamos cuantas propinas hay por dato\n",
        "calificacion_distribucion = df.groupby(\"Calificacion\").size()\n",
        "print(calificacion_distribucion)\n",
        "print()\n",
        "\n",
        "calificacion_distribucion = calificacion_distribucion / calificacion_distribucion.sum()\n",
        "print(calificacion_distribucion)"
      ],
      "metadata": {
        "colab": {
          "base_uri": "https://localhost:8080/"
        },
        "id": "IJdCWwwrAPiT",
        "outputId": "b03ed985-52d8-486f-c605-677d10a97a04"
      },
      "execution_count": null,
      "outputs": [
        {
          "output_type": "stream",
          "name": "stdout",
          "text": [
            "Calificacion\n",
            "Buena        167\n",
            "Mala          11\n",
            "Muy buena     12\n",
            "Normal        81\n",
            "dtype: int64\n",
            "\n",
            "Calificacion\n",
            "Buena        0.616236\n",
            "Mala         0.040590\n",
            "Muy buena    0.044280\n",
            "Normal       0.298893\n",
            "dtype: float64\n"
          ]
        }
      ]
    },
    {
      "cell_type": "markdown",
      "source": [
        "Para crear un gráfico de torta, usamos el método `pie` de matplotlib y le entregamos la lista de valores. En este caso, el método va a retornar una lista con los diferentes objetos presentes en la visualiazción. Lo importante es el primer elemento (`pie_chart[0]`) que es una lista con cada segmente circular que matplotlib puede usar despues para la leyenda.\n",
        "\n",
        "Luego, usamos el comando `legend` para indicarle a matplotlib que debe incluir la leyenda en la visualización. Los parámetros entregados son 5:\n",
        "\n",
        "1. Primero le entregamos `pie_chart[0]` para indicarle a matplotlib cuáles son los elementos visuales que debe aplicar legenda.\n",
        "2. Segundo le entregamos una lista con los nombres de cada segmento. Para esto usamos `calificacion_distribucion.index` que retorna la lista `[\"Buena\", \"Mala\", ...]`.\n",
        "3. Agregamos 3 parámetros adicional:\n",
        "    1. `title` para definir un título de la leyenda.\n",
        "    2. `loc`para indicar donde poner la leyenda dentro de un área definida internamente por matplotlib. En este caso, arriba a la derecha **dentro de dicha área**\n",
        "    3. `bbox_to_anchor`para indicar la coordenada desde donde empezar esa área que define matplotlib. (1,1) nos dice que dicha área estará arriba y a la derecha. En el siguiente [link](https://www.delftstack.com/es/howto/matplotlib/specify-legend-position-in-graph-coordinates-matplotlib/) se detalla más como funciona este parámetro."
      ],
      "metadata": {
        "id": "q9_gPmOJAXoi"
      }
    },
    {
      "cell_type": "code",
      "source": [
        "pie_chart = plt.pie(calificacion_distribucion)\n",
        "\n",
        "# Se agrega la leyenda en donde se le entrega la lista de cada segmento circular una lista de strings\n",
        "# que será el nombre asignado a cada elemento y le damos un título a la leyenda\n",
        "plt.legend(\n",
        "    pie_chart[0],\n",
        "    calificacion_distribucion.index,\n",
        "    title=\"Calificación\",\n",
        "    loc='upper left',\n",
        "    bbox_to_anchor=(1, 1)\n",
        "    )\n",
        "\n",
        "#Se asigna un título al gráfico\n",
        "plt.title(\"Proporcion de propinas por sexo\")\n",
        "\n",
        "plt.show()"
      ],
      "metadata": {
        "colab": {
          "base_uri": "https://localhost:8080/",
          "height": 521
        },
        "id": "WOHyt2mFAWE0",
        "outputId": "aab2f5e2-c073-430a-f9bc-85f89e19bdac"
      },
      "execution_count": null,
      "outputs": [
        {
          "output_type": "display_data",
          "data": {
            "text/plain": [
              "<Figure size 1200x600 with 1 Axes>"
            ],
            "image/png": "[encoded data removed]"
          },
          "metadata": {}
        }
      ]
    },
    {
      "cell_type": "markdown",
      "source": [
        "Ahora, ¿qué tal ver la proporción de libros por `Calificación` y por `Type` simultaneamente?\n",
        "Dado que el mini-proyecto 2 pide hacer una visualización similar de 2 gráficos en una misma fila. Nosotros haremos una variación: 2 gráficos en una misma columna.\n",
        "\n",
        "Lo primero, es definir nuestros 2 dataset con el `groupby` según el atributo a calcular su proporción.\n",
        "\n",
        "Luego usamos `subplots` donde indicamos que queremos **2 columnas** y **1 fila**. Este comando nos retorna `2 objetos`.\n",
        "\n",
        "1. `fig`. Este objeto nos sirve para trabajar con toda la visualiazción. Lo típico es usar este elemento para definir un título general.\n",
        "\n",
        "2. `charts`. Este elemento es una lista con el gráfico de cada posición.\n",
        "\n",
        "`subplots` con matplotlib funciona un poco distinto a seaborn. Aquí no definimos `ax=charts[0]`, sino que cada gráfico dentro de charts cuenta con las funcionalidades de matplotlib. Por lo tanto, debemos hacer `charts[0].pie` para indicar que el gráfico de la primera posición sea uno de torta.\n",
        "\n",
        "Luego, para cada gráfico nuevamente definimos su leyenda con `charts[0].legend` y su título con `chars[0].set_title`. Finalmente, escribimos un título para la visualización total  con `fig.suptitle`."
      ],
      "metadata": {
        "id": "pzBB_IwaAa-i"
      }
    },
    {
      "cell_type": "code",
      "source": [
        "calificacion_distribucion = df.groupby(\"Calificacion\").size()\n",
        "tipo_distribucion = df.groupby(\"Type\").size()\n",
        "\n",
        "fig, charts = plt.subplots(2,1)\n",
        "\n",
        "# Definimos cada gráfico\n",
        "charts[0].pie(calificacion_distribucion)\n",
        "charts[1].pie(tipo_distribucion)\n",
        "\n",
        "# Se agrega la leyenda a cada gráfico.\n",
        "charts[0].legend(\n",
        "    calificacion_distribucion.index,\n",
        "    title=\"Calificación\",\n",
        "    loc='upper left',\n",
        "    bbox_to_anchor=(1, 1)\n",
        "    )\n",
        "\n",
        "charts[1].legend(\n",
        "    tipo_distribucion.index,\n",
        "    title=\"Tipos\",\n",
        "    loc='upper left',\n",
        "    bbox_to_anchor=(1, 1)\n",
        "    )\n",
        "\n",
        "# Se asigna el título a cada sub-gráfico\n",
        "charts[0].set_title(\"Clasificación del libro\")\n",
        "charts[1].set_title(\"Tipo de libro\")\n",
        "\n",
        "#Se asigna un título al gráfico\n",
        "fig.suptitle(\"Proporcion de clasificación y tipo de libros\")\n",
        "\n",
        "\n",
        "plt.show()"
      ],
      "metadata": {
        "colab": {
          "base_uri": "https://localhost:8080/",
          "height": 559
        },
        "id": "GPKRCayjAZIq",
        "outputId": "a44c2206-b361-4e05-d391-e677efff094f"
      },
      "execution_count": null,
      "outputs": [
        {
          "output_type": "display_data",
          "data": {
            "text/plain": [
              "<Figure size 1200x600 with 2 Axes>"
            ],
            "image/png": "[encoded data removed]"
          },
          "metadata": {}
        }
      ]
    },
    {
      "cell_type": "markdown",
      "source": [
        "¿Qué pasa si le queremos agregar un número a cada sección? Podemos ocupar `autopct`.\n",
        "\n",
        "Link recomendado: https://stackoverflow.com/questions/6170246/how-do-i-use-matplotlib-autopct"
      ],
      "metadata": {
        "id": "-ISr1t2ZAgLK"
      }
    },
    {
      "cell_type": "markdown",
      "source": [
        "# Pequeños Multiples\n",
        "\n",
        "Este gráfico, tambien llamado: _trellis chart_, _lattice chart_, _grid chart_ o _panel chart_ consiste en una serie o cuadrícula de pequeños gráficos **todos con la misma codificación** , lo que permite **compararlos** fácilmente y **no comparten datos**. Es decir, cada gráfico presenta un subconjunto distinto del dataset.\n",
        "\n",
        "Para este caso, vamos a intentar comparar la cantidad de libros que tenemos por tipo, **pero** separados según la cantidad de comentarios que tienen los libros. De esta forma, podemos ver si los libros muy comentados tienen un comportamiento distinto a los que tienen muy pocos comentarios. Para lograr esto, primero vamos a categorizar la cantidad de comentarios. Los números seleccionados fueron seleccionado por nosotros solo con fines educativos."
      ],
      "metadata": {
        "id": "lzXXz0IKAhqe"
      }
    },
    {
      "cell_type": "code",
      "source": [
        "def Comentado(reviews):\n",
        "    if reviews >= 600:\n",
        "        return \"Demasiado\"\n",
        "    if reviews >= 50:\n",
        "        return \"Lo esperado\"\n",
        "    return \"Casi Nada\""
      ],
      "metadata": {
        "id": "D5hjacyoAecw"
      },
      "execution_count": null,
      "outputs": []
    },
    {
      "cell_type": "markdown",
      "source": [
        "Luego, vamos a crear una copia del dataset y agregar esta nueva columna.\n",
        "\n",
        "Posteriormente, vamos a agrupar por tipo y la nueva columna (`Comentado`). Para cada grupo generado, vamos a contar cuantos libros hay (`size`)."
      ],
      "metadata": {
        "id": "-vDrtHqQAkKd"
      }
    },
    {
      "cell_type": "code",
      "source": [
        "df_2 = df.copy()\n",
        "df_2[\"Comentado\"] = df_2[\"Reviews\"].apply(Comentado)\n",
        "df_agrupado_2 = df_2.groupby([\"Type\", \"Comentado\"]).size()\n",
        "df_agrupado_2"
      ],
      "metadata": {
        "colab": {
          "base_uri": "https://localhost:8080/"
        },
        "id": "oQOdyWQ4AjAo",
        "outputId": "192d5be5-384c-4154-de2e-aa8d55ec092e"
      },
      "execution_count": null,
      "outputs": [
        {
          "output_type": "execute_result",
          "data": {
            "text/plain": [
              "Type                   Comentado  \n",
              "Boxed Set - Hardcover  Casi Nada       1\n",
              "Hardcover              Casi Nada      58\n",
              "                       Demasiado      10\n",
              "                       Lo esperado    27\n",
              "Kindle Edition         Casi Nada       6\n",
              "                       Demasiado       1\n",
              "                       Lo esperado     3\n",
              "Paperback              Casi Nada      87\n",
              "                       Demasiado       5\n",
              "                       Lo esperado    64\n",
              "Unknown Binding        Lo esperado     2\n",
              "ebook                  Casi Nada       4\n",
              "                       Lo esperado     3\n",
              "dtype: int64"
            ]
          },
          "metadata": {},
          "execution_count": 33
        }
      ]
    },
    {
      "cell_type": "markdown",
      "source": [
        " Hasta este momento, pandas entrega un `dataframe` con filas indexadas según el dato agrupado. Nosotros queremos todo como un dataset normal (con 3 columnas y sin índices). Para esto ocupamos `reset_index()`. Adicionalmente le cambiamos el nombre a las columnas para facilitar el trabajo."
      ],
      "metadata": {
        "id": "JvPfi22VAm3j"
      }
    },
    {
      "cell_type": "code",
      "source": [
        "df_agrupado_2 = df_agrupado_2.reset_index()\n",
        "print(df_agrupado_2.columns)\n",
        "\n",
        "# Cambiar nombre\n",
        "df_agrupado_2.columns = [\"Type\", \"Comentado\", \"Cantidad\"]\n",
        "\n",
        "# Ver como queda ahora\n",
        "df_agrupado_2"
      ],
      "metadata": {
        "colab": {
          "base_uri": "https://localhost:8080/",
          "height": 474
        },
        "id": "7VKGjevRAj4J",
        "outputId": "4c1fce6f-642c-4b11-d9d2-69f9ddd18545"
      },
      "execution_count": null,
      "outputs": [
        {
          "output_type": "stream",
          "name": "stdout",
          "text": [
            "Index(['Type', 'Comentado', 0], dtype='object')\n"
          ]
        },
        {
          "output_type": "execute_result",
          "data": {
            "text/plain": [
              "                     Type    Comentado  Cantidad\n",
              "0   Boxed Set - Hardcover    Casi Nada         1\n",
              "1               Hardcover    Casi Nada        58\n",
              "2               Hardcover    Demasiado        10\n",
              "3               Hardcover  Lo esperado        27\n",
              "4          Kindle Edition    Casi Nada         6\n",
              "5          Kindle Edition    Demasiado         1\n",
              "6          Kindle Edition  Lo esperado         3\n",
              "7               Paperback    Casi Nada        87\n",
              "8               Paperback    Demasiado         5\n",
              "9               Paperback  Lo esperado        64\n",
              "10        Unknown Binding  Lo esperado         2\n",
              "11                  ebook    Casi Nada         4\n",
              "12                  ebook  Lo esperado         3"
            ],
            "text/html": [
              "\n",
              "\n",
              "  <div id=\"df-1773f339-c9a9-47c3-b179-8f3540b73ad8\">\n",
              "    <div class=\"colab-df-container\">\n",
              "      <div>\n",
              "<style scoped>\n",
              "    .dataframe tbody tr th:only-of-type {\n",
              "        vertical-align: middle;\n",
              "    }\n",
              "\n",
              "    .dataframe tbody tr th {\n",
              "        vertical-align: top;\n",
              "    }\n",
              "\n",
              "    .dataframe thead th {\n",
              "        text-align: right;\n",
              "    }\n",
              "</style>\n",
              "<table border=\"1\" class=\"dataframe\">\n",
              "  <thead>\n",
              "    <tr style=\"text-align: right;\">\n",
              "      <th></th>\n",
              "      <th>Type</th>\n",
              "      <th>Comentado</th>\n",
              "      <th>Cantidad</th>\n",
              "    </tr>\n",
              "  </thead>\n",
              "  <tbody>\n",
              "    <tr>\n",
              "      <th>0</th>\n",
              "      <td>Boxed Set - Hardcover</td>\n",
              "      <td>Casi Nada</td>\n",
              "      <td>1</td>\n",
              "    </tr>\n",
              "    <tr>\n",
              "      <th>1</th>\n",
              "      <td>Hardcover</td>\n",
              "      <td>Casi Nada</td>\n",
              "      <td>58</td>\n",
              "    </tr>\n",
              "    <tr>\n",
              "      <th>2</th>\n",
              "      <td>Hardcover</td>\n",
              "      <td>Demasiado</td>\n",
              "      <td>10</td>\n",
              "    </tr>\n",
              "    <tr>\n",
              "      <th>3</th>\n",
              "      <td>Hardcover</td>\n",
              "      <td>Lo esperado</td>\n",
              "      <td>27</td>\n",
              "    </tr>\n",
              "    <tr>\n",
              "      <th>4</th>\n",
              "      <td>Kindle Edition</td>\n",
              "      <td>Casi Nada</td>\n",
              "      <td>6</td>\n",
              "    </tr>\n",
              "    <tr>\n",
              "      <th>5</th>\n",
              "      <td>Kindle Edition</td>\n",
              "      <td>Demasiado</td>\n",
              "      <td>1</td>\n",
              "    </tr>\n",
              "    <tr>\n",
              "      <th>6</th>\n",
              "      <td>Kindle Edition</td>\n",
              "      <td>Lo esperado</td>\n",
              "      <td>3</td>\n",
              "    </tr>\n",
              "    <tr>\n",
              "      <th>7</th>\n",
              "      <td>Paperback</td>\n",
              "      <td>Casi Nada</td>\n",
              "      <td>87</td>\n",
              "    </tr>\n",
              "    <tr>\n",
              "      <th>8</th>\n",
              "      <td>Paperback</td>\n",
              "      <td>Demasiado</td>\n",
              "      <td>5</td>\n",
              "    </tr>\n",
              "    <tr>\n",
              "      <th>9</th>\n",
              "      <td>Paperback</td>\n",
              "      <td>Lo esperado</td>\n",
              "      <td>64</td>\n",
              "    </tr>\n",
              "    <tr>\n",
              "      <th>10</th>\n",
              "      <td>Unknown Binding</td>\n",
              "      <td>Lo esperado</td>\n",
              "      <td>2</td>\n",
              "    </tr>\n",
              "    <tr>\n",
              "      <th>11</th>\n",
              "      <td>ebook</td>\n",
              "      <td>Casi Nada</td>\n",
              "      <td>4</td>\n",
              "    </tr>\n",
              "    <tr>\n",
              "      <th>12</th>\n",
              "      <td>ebook</td>\n",
              "      <td>Lo esperado</td>\n",
              "      <td>3</td>\n",
              "    </tr>\n",
              "  </tbody>\n",
              "</table>\n",
              "</div>\n",
              "      <button class=\"colab-df-convert\" onclick=\"convertToInteractive('df-1773f339-c9a9-47c3-b179-8f3540b73ad8')\"\n",
              "              title=\"Convert this dataframe to an interactive table.\"\n",
              "              style=\"display:none;\">\n",
              "\n",
              "  <svg xmlns=\"http://www.w3.org/2000/svg\" height=\"24px\"viewBox=\"0 0 24 24\"\n",
              "       width=\"24px\">\n",
              "    <path d=\"M0 0h24v24H0V0z\" fill=\"none\"/>\n",
              "    <path d=\"M18.56 5.44l.94 2.06.94-2.06 2.06-.94-2.06-.94-.94-2.06-.94 2.06-2.06.94zm-11 1L8.5 8.5l.94-2.06 2.06-.94-2.06-.94L8.5 2.5l-.94 2.06-2.06.94zm10 10l.94 2.06.94-2.06 2.06-.94-2.06-.94-.94-2.06-.94 2.06-2.06.94z\"/><path d=\"M17.41 7.96l-1.37-1.37c-.4-.4-.92-.59-1.43-.59-.52 0-1.04.2-1.43.59L10.3 9.45l-7.72 7.72c-.78.78-.78 2.05 0 2.83L4 21.41c.39.39.9.59 1.41.59.51 0 1.02-.2 1.41-.59l7.78-7.78 2.81-2.81c.8-.78.8-2.07 0-2.86zM5.41 20L4 18.59l7.72-7.72 1.47 1.35L5.41 20z\"/>\n",
              "  </svg>\n",
              "      </button>\n",
              "\n",
              "\n",
              "\n",
              "    <div id=\"df-35cc094f-3b30-4c7d-8621-fe0d946542a5\">\n",
              "      <button class=\"colab-df-quickchart\" onclick=\"quickchart('df-35cc094f-3b30-4c7d-8621-fe0d946542a5')\"\n",
              "              title=\"Suggest charts.\"\n",
              "              style=\"display:none;\">\n",
              "\n",
              "<svg xmlns=\"http://www.w3.org/2000/svg\" height=\"24px\"viewBox=\"0 0 24 24\"\n",
              "     width=\"24px\">\n",
              "    <g>\n",
              "        <path d=\"M19 3H5c-1.1 0-2 .9-2 2v14c0 1.1.9 2 2 2h14c1.1 0 2-.9 2-2V5c0-1.1-.9-2-2-2zM9 17H7v-7h2v7zm4 0h-2V7h2v10zm4 0h-2v-4h2v4z\"/>\n",
              "    </g>\n",
              "</svg>\n",
              "      </button>\n",
              "    </div>\n",
              "\n",
              "<style>\n",
              "  .colab-df-quickchart {\n",
              "    background-color: #E8F0FE;\n",
              "    border: none;\n",
              "    border-radius: 50%;\n",
              "    cursor: pointer;\n",
              "    display: none;\n",
              "    fill: #1967D2;\n",
              "    height: 32px;\n",
              "    padding: 0 0 0 0;\n",
              "    width: 32px;\n",
              "  }\n",
              "\n",
              "  .colab-df-quickchart:hover {\n",
              "    background-color: #E2EBFA;\n",
              "    box-shadow: 0px 1px 2px rgba(60, 64, 67, 0.3), 0px 1px 3px 1px rgba(60, 64, 67, 0.15);\n",
              "    fill: #174EA6;\n",
              "  }\n",
              "\n",
              "  [theme=dark] .colab-df-quickchart {\n",
              "    background-color: #3B4455;\n",
              "    fill: #D2E3FC;\n",
              "  }\n",
              "\n",
              "  [theme=dark] .colab-df-quickchart:hover {\n",
              "    background-color: #434B5C;\n",
              "    box-shadow: 0px 1px 3px 1px rgba(0, 0, 0, 0.15);\n",
              "    filter: drop-shadow(0px 1px 2px rgba(0, 0, 0, 0.3));\n",
              "    fill: #FFFFFF;\n",
              "  }\n",
              "</style>\n",
              "\n",
              "    <script>\n",
              "      async function quickchart(key) {\n",
              "        const containerElement = document.querySelector('#' + key);\n",
              "        const charts = await google.colab.kernel.invokeFunction(\n",
              "            'suggestCharts', [key], {});\n",
              "      }\n",
              "    </script>\n",
              "\n",
              "      <script>\n",
              "\n",
              "function displayQuickchartButton(domScope) {\n",
              "  let quickchartButtonEl =\n",
              "    domScope.querySelector('#df-35cc094f-3b30-4c7d-8621-fe0d946542a5 button.colab-df-quickchart');\n",
              "  quickchartButtonEl.style.display =\n",
              "    google.colab.kernel.accessAllowed ? 'block' : 'none';\n",
              "}\n",
              "\n",
              "        displayQuickchartButton(document);\n",
              "      </script>\n",
              "      <style>\n",
              "    .colab-df-container {\n",
              "      display:flex;\n",
              "      flex-wrap:wrap;\n",
              "      gap: 12px;\n",
              "    }\n",
              "\n",
              "    .colab-df-convert {\n",
              "      background-color: #E8F0FE;\n",
              "      border: none;\n",
              "      border-radius: 50%;\n",
              "      cursor: pointer;\n",
              "      display: none;\n",
              "      fill: #1967D2;\n",
              "      height: 32px;\n",
              "      padding: 0 0 0 0;\n",
              "      width: 32px;\n",
              "    }\n",
              "\n",
              "    .colab-df-convert:hover {\n",
              "      background-color: #E2EBFA;\n",
              "      box-shadow: 0px 1px 2px rgba(60, 64, 67, 0.3), 0px 1px 3px 1px rgba(60, 64, 67, 0.15);\n",
              "      fill: #174EA6;\n",
              "    }\n",
              "\n",
              "    [theme=dark] .colab-df-convert {\n",
              "      background-color: #3B4455;\n",
              "      fill: #D2E3FC;\n",
              "    }\n",
              "\n",
              "    [theme=dark] .colab-df-convert:hover {\n",
              "      background-color: #434B5C;\n",
              "      box-shadow: 0px 1px 3px 1px rgba(0, 0, 0, 0.15);\n",
              "      filter: drop-shadow(0px 1px 2px rgba(0, 0, 0, 0.3));\n",
              "      fill: #FFFFFF;\n",
              "    }\n",
              "  </style>\n",
              "\n",
              "      <script>\n",
              "        const buttonEl =\n",
              "          document.querySelector('#df-1773f339-c9a9-47c3-b179-8f3540b73ad8 button.colab-df-convert');\n",
              "        buttonEl.style.display =\n",
              "          google.colab.kernel.accessAllowed ? 'block' : 'none';\n",
              "\n",
              "        async function convertToInteractive(key) {\n",
              "          const element = document.querySelector('#df-1773f339-c9a9-47c3-b179-8f3540b73ad8');\n",
              "          const dataTable =\n",
              "            await google.colab.kernel.invokeFunction('convertToInteractive',\n",
              "                                                     [key], {});\n",
              "          if (!dataTable) return;\n",
              "\n",
              "          const docLinkHtml = 'Like what you see? Visit the ' +\n",
              "            '<a target=\"_blank\" href=https://colab.research.google.com/notebooks/data_table.ipynb>data table notebook</a>'\n",
              "            + ' to learn more about interactive tables.';\n",
              "          element.innerHTML = '';\n",
              "          dataTable['output_type'] = 'display_data';\n",
              "          await google.colab.output.renderOutput(dataTable, element);\n",
              "          const docLink = document.createElement('div');\n",
              "          docLink.innerHTML = docLinkHtml;\n",
              "          element.appendChild(docLink);\n",
              "        }\n",
              "      </script>\n",
              "    </div>\n",
              "  </div>\n"
            ]
          },
          "metadata": {},
          "execution_count": 34
        }
      ]
    },
    {
      "cell_type": "markdown",
      "source": [
        "Ahora si, ¡vamos a visualizar!\n",
        "\n",
        "Para crear un _small multiples_ primero debemos crear nuestra grilla con `sns.FacetGrid` donde definimos 3 parámetros importantes:\n",
        "\n",
        "1. `data=df_agrupado_2`: indicar de dónde provienen los datos.\n",
        "2. `col=\"Comentado\"`: indicar qué columna utilizar para definir cuántos gráficos hay. Cada gráfico será para un valor distinto de la columna `Comentado`.\n",
        "3. `col_wrap=3`: indicar cuántas columnas pueden haber. Si hay más gráficos que el tamaño máximo de columna, los siguientes pasan a una segunda fila.\n",
        "\n",
        "**Importante:** esta función (`sns.FacetGrid`) solo genera los gráficos sin datos, ahora falta indicar con qué llenar cada gráfico.\n",
        "\n",
        "Para llenar los datos, usamos el comando `map` donde:\n",
        "\n",
        "1.  El primer argumento se usa para indicar con qué gráfico llenar cada celda.\n",
        "2. Los siguientes parámetros son usados por el gráfico que decidimos. En este caso, dado que usamos `plt.barh`, los siguientes argumentos deben ser la columna para el eje X, y luego la columna para utilizar en el eje Y. En este caso, serían `Type`y `Cantidad`.\n",
        "\n",
        "Adicionalmente, usamos `set_axis_labels` para indicar el nombre del eje X e Y."
      ],
      "metadata": {
        "id": "e3303yydAqc3"
      }
    },
    {
      "cell_type": "code",
      "source": [
        "# Esta función solo genera los gráficos sin datos, ahora falta indicar con qué llenar cada gráfico\n",
        "grid = sns.FacetGrid(\n",
        "    data=df_agrupado_2,\n",
        "    col=\"Comentado\",\n",
        "    col_wrap=3\n",
        "    )\n",
        "\n",
        "grid.map(plt.barh, \"Type\", \"Cantidad\")\n",
        "\n",
        "# Agregamos el label a los ejes\n",
        "grid.set_axis_labels(\"Cantidad\", \"Tipo\")\n",
        "\n",
        "# Visualizar el gráfico\n",
        "plt.show()"
      ],
      "metadata": {
        "colab": {
          "base_uri": "https://localhost:8080/",
          "height": 307
        },
        "id": "zNigkrLHAo0g",
        "outputId": "d232d252-33b9-4418-d2d3-fcb0073428fc"
      },
      "execution_count": null,
      "outputs": [
        {
          "output_type": "display_data",
          "data": {
            "text/plain": [
              "<Figure size 900x300 with 3 Axes>"
            ],
            "image/png": "[encoded data removed]"
          },
          "metadata": {}
        }
      ]
    },
    {
      "cell_type": "markdown",
      "source": [
        "¿Cómo hago si quiero ver las columnas con un cierto orden? Agregamos `col_order`."
      ],
      "metadata": {
        "id": "3LVJOPjBAtyq"
      }
    },
    {
      "cell_type": "code",
      "source": [
        "# col_order Para indicar el orden\n",
        "grid = sns.FacetGrid(\n",
        "    data=df_agrupado_2,\n",
        "    col=\"Comentado\",\n",
        "    col_wrap=3,\n",
        "    col_order=[\"Demasiado\", \"Lo esperado\", \"Casi Nada\"]\n",
        "    )\n",
        "\n",
        "grid.map(plt.barh, \"Type\", \"Cantidad\")\n",
        "\n",
        "grid.set_axis_labels(\"Cantidad\", \"Tipo\")\n",
        "\n",
        "plt.show()"
      ],
      "metadata": {
        "colab": {
          "base_uri": "https://localhost:8080/",
          "height": 307
        },
        "id": "CZeLaSQuAu45",
        "outputId": "0e1c4cae-cb2c-4b0b-ed3b-203b135d90e9"
      },
      "execution_count": null,
      "outputs": [
        {
          "output_type": "display_data",
          "data": {
            "text/plain": [
              "<Figure size 900x300 with 3 Axes>"
            ],
            "image/png": "[encoded data removed]"
          },
          "metadata": {}
        }
      ]
    },
    {
      "cell_type": "markdown",
      "source": [
        "# Mapa de calor\n",
        "\n",
        "Los mapas de calor consisten en generar una grilla donde cada fila y columna es un valor distinto de dos columnas del dataset y cada celda codifica, través de variaciones en el color, un valor numérico.\n",
        "\n",
        "<img src=\"https://datavizcatalogue.com/ES/metodos/images/top_images/SVG/mapa_de_calor.svg\" width=\"550\"/>\n",
        "\n",
        "Debido a su dependencia del color para comunicar valores, los mapas de calor son un gráfico más adecuado para mostrar una visión más generalizada de los datos numéricos, ya que es más difícil distinguir con precisión las diferencias entre tonos de color y extraer puntos de datos específicos.\n",
        "\n",
        "Para este último gráfico, vamos a intentar ver un resumen de la cantidad de comentarios que tienen los libros según el tipo y calificación. ¿Será posible ver que hay libros con muy pocos comentarios pero son muy buenos?\n",
        "\n",
        "Para lograr este objetivo, primero vamos a agrupar el dataset por 2 categorías: tipo y calificación. Luego, para cada grupo vamos a calcular la cantidad promedio de reviews que hay."
      ],
      "metadata": {
        "id": "4P5GFaCNArpZ"
      }
    },
    {
      "cell_type": "code",
      "source": [
        "df_agrupado = df.groupby([\"Type\", \"Calificacion\"])[\"Reviews\"].mean()\n",
        "df_agrupado"
      ],
      "metadata": {
        "colab": {
          "base_uri": "https://localhost:8080/"
        },
        "id": "o_zTmMVOAwuo",
        "outputId": "c742c05d-1344-4917-fa13-6d63f2569c3d"
      },
      "execution_count": null,
      "outputs": [
        {
          "output_type": "execute_result",
          "data": {
            "text/plain": [
              "Type                   Calificacion\n",
              "Boxed Set - Hardcover  Buena            36.000000\n",
              "Hardcover              Buena           359.237288\n",
              "                       Mala              1.000000\n",
              "                       Muy buena        28.000000\n",
              "                       Normal          270.687500\n",
              "Kindle Edition         Buena           250.833333\n",
              "                       Mala              0.000000\n",
              "                       Normal           20.000000\n",
              "Paperback              Buena           159.168421\n",
              "                       Mala              1.222222\n",
              "                       Muy buena        99.250000\n",
              "                       Normal           50.227273\n",
              "Unknown Binding        Buena           125.000000\n",
              "                       Normal          122.000000\n",
              "ebook                  Buena            60.600000\n",
              "                       Muy buena         0.000000\n",
              "                       Normal           57.000000\n",
              "Name: Reviews, dtype: float64"
            ]
          },
          "metadata": {},
          "execution_count": 37
        }
      ]
    },
    {
      "cell_type": "markdown",
      "source": [
        "Nuevamente, nos enfrentamos a un dataset donde type y calificación son índices para buscar una fila. Queremos un dataset con 3 columnas. Así que recurrimos a `reset_index()`"
      ],
      "metadata": {
        "id": "TVSSxsb4A2KH"
      }
    },
    {
      "cell_type": "code",
      "source": [
        "df_agrupado_sin_index = df_agrupado.reset_index()\n",
        "df_agrupado_sin_index.head()"
      ],
      "metadata": {
        "colab": {
          "base_uri": "https://localhost:8080/",
          "height": 206
        },
        "id": "ywnt65BYAyJd",
        "outputId": "1b308807-d487-43aa-bf8e-cf224efc84cb"
      },
      "execution_count": null,
      "outputs": [
        {
          "output_type": "execute_result",
          "data": {
            "text/plain": [
              "                    Type Calificacion     Reviews\n",
              "0  Boxed Set - Hardcover        Buena   36.000000\n",
              "1              Hardcover        Buena  359.237288\n",
              "2              Hardcover         Mala    1.000000\n",
              "3              Hardcover    Muy buena   28.000000\n",
              "4              Hardcover       Normal  270.687500"
            ],
            "text/html": [
              "\n",
              "\n",
              "  <div id=\"df-407aaec1-4b60-4be2-8f8f-2da8762a509d\">\n",
              "    <div class=\"colab-df-container\">\n",
              "      <div>\n",
              "<style scoped>\n",
              "    .dataframe tbody tr th:only-of-type {\n",
              "        vertical-align: middle;\n",
              "    }\n",
              "\n",
              "    .dataframe tbody tr th {\n",
              "        vertical-align: top;\n",
              "    }\n",
              "\n",
              "    .dataframe thead th {\n",
              "        text-align: right;\n",
              "    }\n",
              "</style>\n",
              "<table border=\"1\" class=\"dataframe\">\n",
              "  <thead>\n",
              "    <tr style=\"text-align: right;\">\n",
              "      <th></th>\n",
              "      <th>Type</th>\n",
              "      <th>Calificacion</th>\n",
              "      <th>Reviews</th>\n",
              "    </tr>\n",
              "  </thead>\n",
              "  <tbody>\n",
              "    <tr>\n",
              "      <th>0</th>\n",
              "      <td>Boxed Set - Hardcover</td>\n",
              "      <td>Buena</td>\n",
              "      <td>36.000000</td>\n",
              "    </tr>\n",
              "    <tr>\n",
              "      <th>1</th>\n",
              "      <td>Hardcover</td>\n",
              "      <td>Buena</td>\n",
              "      <td>359.237288</td>\n",
              "    </tr>\n",
              "    <tr>\n",
              "      <th>2</th>\n",
              "      <td>Hardcover</td>\n",
              "      <td>Mala</td>\n",
              "      <td>1.000000</td>\n",
              "    </tr>\n",
              "    <tr>\n",
              "      <th>3</th>\n",
              "      <td>Hardcover</td>\n",
              "      <td>Muy buena</td>\n",
              "      <td>28.000000</td>\n",
              "    </tr>\n",
              "    <tr>\n",
              "      <th>4</th>\n",
              "      <td>Hardcover</td>\n",
              "      <td>Normal</td>\n",
              "      <td>270.687500</td>\n",
              "    </tr>\n",
              "  </tbody>\n",
              "</table>\n",
              "</div>\n",
              "      <button class=\"colab-df-convert\" onclick=\"convertToInteractive('df-407aaec1-4b60-4be2-8f8f-2da8762a509d')\"\n",
              "              title=\"Convert this dataframe to an interactive table.\"\n",
              "              style=\"display:none;\">\n",
              "\n",
              "  <svg xmlns=\"http://www.w3.org/2000/svg\" height=\"24px\"viewBox=\"0 0 24 24\"\n",
              "       width=\"24px\">\n",
              "    <path d=\"M0 0h24v24H0V0z\" fill=\"none\"/>\n",
              "    <path d=\"M18.56 5.44l.94 2.06.94-2.06 2.06-.94-2.06-.94-.94-2.06-.94 2.06-2.06.94zm-11 1L8.5 8.5l.94-2.06 2.06-.94-2.06-.94L8.5 2.5l-.94 2.06-2.06.94zm10 10l.94 2.06.94-2.06 2.06-.94-2.06-.94-.94-2.06-.94 2.06-2.06.94z\"/><path d=\"M17.41 7.96l-1.37-1.37c-.4-.4-.92-.59-1.43-.59-.52 0-1.04.2-1.43.59L10.3 9.45l-7.72 7.72c-.78.78-.78 2.05 0 2.83L4 21.41c.39.39.9.59 1.41.59.51 0 1.02-.2 1.41-.59l7.78-7.78 2.81-2.81c.8-.78.8-2.07 0-2.86zM5.41 20L4 18.59l7.72-7.72 1.47 1.35L5.41 20z\"/>\n",
              "  </svg>\n",
              "      </button>\n",
              "\n",
              "\n",
              "\n",
              "    <div id=\"df-0c5aaec6-5765-4e73-b538-51e513457587\">\n",
              "      <button class=\"colab-df-quickchart\" onclick=\"quickchart('df-0c5aaec6-5765-4e73-b538-51e513457587')\"\n",
              "              title=\"Suggest charts.\"\n",
              "              style=\"display:none;\">\n",
              "\n",
              "<svg xmlns=\"http://www.w3.org/2000/svg\" height=\"24px\"viewBox=\"0 0 24 24\"\n",
              "     width=\"24px\">\n",
              "    <g>\n",
              "        <path d=\"M19 3H5c-1.1 0-2 .9-2 2v14c0 1.1.9 2 2 2h14c1.1 0 2-.9 2-2V5c0-1.1-.9-2-2-2zM9 17H7v-7h2v7zm4 0h-2V7h2v10zm4 0h-2v-4h2v4z\"/>\n",
              "    </g>\n",
              "</svg>\n",
              "      </button>\n",
              "    </div>\n",
              "\n",
              "<style>\n",
              "  .colab-df-quickchart {\n",
              "    background-color: #E8F0FE;\n",
              "    border: none;\n",
              "    border-radius: 50%;\n",
              "    cursor: pointer;\n",
              "    display: none;\n",
              "    fill: #1967D2;\n",
              "    height: 32px;\n",
              "    padding: 0 0 0 0;\n",
              "    width: 32px;\n",
              "  }\n",
              "\n",
              "  .colab-df-quickchart:hover {\n",
              "    background-color: #E2EBFA;\n",
              "    box-shadow: 0px 1px 2px rgba(60, 64, 67, 0.3), 0px 1px 3px 1px rgba(60, 64, 67, 0.15);\n",
              "    fill: #174EA6;\n",
              "  }\n",
              "\n",
              "  [theme=dark] .colab-df-quickchart {\n",
              "    background-color: #3B4455;\n",
              "    fill: #D2E3FC;\n",
              "  }\n",
              "\n",
              "  [theme=dark] .colab-df-quickchart:hover {\n",
              "    background-color: #434B5C;\n",
              "    box-shadow: 0px 1px 3px 1px rgba(0, 0, 0, 0.15);\n",
              "    filter: drop-shadow(0px 1px 2px rgba(0, 0, 0, 0.3));\n",
              "    fill: #FFFFFF;\n",
              "  }\n",
              "</style>\n",
              "\n",
              "    <script>\n",
              "      async function quickchart(key) {\n",
              "        const containerElement = document.querySelector('#' + key);\n",
              "        const charts = await google.colab.kernel.invokeFunction(\n",
              "            'suggestCharts', [key], {});\n",
              "      }\n",
              "    </script>\n",
              "\n",
              "      <script>\n",
              "\n",
              "function displayQuickchartButton(domScope) {\n",
              "  let quickchartButtonEl =\n",
              "    domScope.querySelector('#df-0c5aaec6-5765-4e73-b538-51e513457587 button.colab-df-quickchart');\n",
              "  quickchartButtonEl.style.display =\n",
              "    google.colab.kernel.accessAllowed ? 'block' : 'none';\n",
              "}\n",
              "\n",
              "        displayQuickchartButton(document);\n",
              "      </script>\n",
              "      <style>\n",
              "    .colab-df-container {\n",
              "      display:flex;\n",
              "      flex-wrap:wrap;\n",
              "      gap: 12px;\n",
              "    }\n",
              "\n",
              "    .colab-df-convert {\n",
              "      background-color: #E8F0FE;\n",
              "      border: none;\n",
              "      border-radius: 50%;\n",
              "      cursor: pointer;\n",
              "      display: none;\n",
              "      fill: #1967D2;\n",
              "      height: 32px;\n",
              "      padding: 0 0 0 0;\n",
              "      width: 32px;\n",
              "    }\n",
              "\n",
              "    .colab-df-convert:hover {\n",
              "      background-color: #E2EBFA;\n",
              "      box-shadow: 0px 1px 2px rgba(60, 64, 67, 0.3), 0px 1px 3px 1px rgba(60, 64, 67, 0.15);\n",
              "      fill: #174EA6;\n",
              "    }\n",
              "\n",
              "    [theme=dark] .colab-df-convert {\n",
              "      background-color: #3B4455;\n",
              "      fill: #D2E3FC;\n",
              "    }\n",
              "\n",
              "    [theme=dark] .colab-df-convert:hover {\n",
              "      background-color: #434B5C;\n",
              "      box-shadow: 0px 1px 3px 1px rgba(0, 0, 0, 0.15);\n",
              "      filter: drop-shadow(0px 1px 2px rgba(0, 0, 0, 0.3));\n",
              "      fill: #FFFFFF;\n",
              "    }\n",
              "  </style>\n",
              "\n",
              "      <script>\n",
              "        const buttonEl =\n",
              "          document.querySelector('#df-407aaec1-4b60-4be2-8f8f-2da8762a509d button.colab-df-convert');\n",
              "        buttonEl.style.display =\n",
              "          google.colab.kernel.accessAllowed ? 'block' : 'none';\n",
              "\n",
              "        async function convertToInteractive(key) {\n",
              "          const element = document.querySelector('#df-407aaec1-4b60-4be2-8f8f-2da8762a509d');\n",
              "          const dataTable =\n",
              "            await google.colab.kernel.invokeFunction('convertToInteractive',\n",
              "                                                     [key], {});\n",
              "          if (!dataTable) return;\n",
              "\n",
              "          const docLinkHtml = 'Like what you see? Visit the ' +\n",
              "            '<a target=\"_blank\" href=https://colab.research.google.com/notebooks/data_table.ipynb>data table notebook</a>'\n",
              "            + ' to learn more about interactive tables.';\n",
              "          element.innerHTML = '';\n",
              "          dataTable['output_type'] = 'display_data';\n",
              "          await google.colab.output.renderOutput(dataTable, element);\n",
              "          const docLink = document.createElement('div');\n",
              "          docLink.innerHTML = docLinkHtml;\n",
              "          element.appendChild(docLink);\n",
              "        }\n",
              "      </script>\n",
              "    </div>\n",
              "  </div>\n"
            ]
          },
          "metadata": {},
          "execution_count": 38
        }
      ]
    },
    {
      "cell_type": "markdown",
      "source": [
        "Ahora usamos la función `pivot` que nos permite generar una matriz donde:\n",
        "\n",
        "1.  Cada fila serán los valores distinto de la columna indicada (`Type` en este caso).\n",
        "1.  Cada columna serán los valores distinto de la columna indicada (`Calificacion` en este caso).\n",
        "1.  Cada celda será el valor numérico de la columna `Reviews` asociado a la fila y columna que corresponda."
      ],
      "metadata": {
        "id": "KQqF8T3TA4OT"
      }
    },
    {
      "cell_type": "code",
      "source": [
        "df_pivoteado = df_agrupado_sin_index.pivot(index=\"Type\", columns=\"Calificacion\", values=\"Reviews\")\n",
        "df_pivoteado"
      ],
      "metadata": {
        "colab": {
          "base_uri": "https://localhost:8080/",
          "height": 269
        },
        "id": "lV01_0-hA3R7",
        "outputId": "66b88715-391a-4b1c-edd6-2afabadc0167"
      },
      "execution_count": null,
      "outputs": [
        {
          "output_type": "execute_result",
          "data": {
            "text/plain": [
              "Calificacion                Buena      Mala  Muy buena      Normal\n",
              "Type                                                              \n",
              "Boxed Set - Hardcover   36.000000       NaN        NaN         NaN\n",
              "Hardcover              359.237288  1.000000      28.00  270.687500\n",
              "Kindle Edition         250.833333  0.000000        NaN   20.000000\n",
              "Paperback              159.168421  1.222222      99.25   50.227273\n",
              "Unknown Binding        125.000000       NaN        NaN  122.000000\n",
              "ebook                   60.600000       NaN       0.00   57.000000"
            ],
            "text/html": [
              "\n",
              "\n",
              "  <div id=\"df-27fb4384-2c67-46f4-b02e-6d87a923ace4\">\n",
              "    <div class=\"colab-df-container\">\n",
              "      <div>\n",
              "<style scoped>\n",
              "    .dataframe tbody tr th:only-of-type {\n",
              "        vertical-align: middle;\n",
              "    }\n",
              "\n",
              "    .dataframe tbody tr th {\n",
              "        vertical-align: top;\n",
              "    }\n",
              "\n",
              "    .dataframe thead th {\n",
              "        text-align: right;\n",
              "    }\n",
              "</style>\n",
              "<table border=\"1\" class=\"dataframe\">\n",
              "  <thead>\n",
              "    <tr style=\"text-align: right;\">\n",
              "      <th>Calificacion</th>\n",
              "      <th>Buena</th>\n",
              "      <th>Mala</th>\n",
              "      <th>Muy buena</th>\n",
              "      <th>Normal</th>\n",
              "    </tr>\n",
              "    <tr>\n",
              "      <th>Type</th>\n",
              "      <th></th>\n",
              "      <th></th>\n",
              "      <th></th>\n",
              "      <th></th>\n",
              "    </tr>\n",
              "  </thead>\n",
              "  <tbody>\n",
              "    <tr>\n",
              "      <th>Boxed Set - Hardcover</th>\n",
              "      <td>36.000000</td>\n",
              "      <td>NaN</td>\n",
              "      <td>NaN</td>\n",
              "      <td>NaN</td>\n",
              "    </tr>\n",
              "    <tr>\n",
              "      <th>Hardcover</th>\n",
              "      <td>359.237288</td>\n",
              "      <td>1.000000</td>\n",
              "      <td>28.00</td>\n",
              "      <td>270.687500</td>\n",
              "    </tr>\n",
              "    <tr>\n",
              "      <th>Kindle Edition</th>\n",
              "      <td>250.833333</td>\n",
              "      <td>0.000000</td>\n",
              "      <td>NaN</td>\n",
              "      <td>20.000000</td>\n",
              "    </tr>\n",
              "    <tr>\n",
              "      <th>Paperback</th>\n",
              "      <td>159.168421</td>\n",
              "      <td>1.222222</td>\n",
              "      <td>99.25</td>\n",
              "      <td>50.227273</td>\n",
              "    </tr>\n",
              "    <tr>\n",
              "      <th>Unknown Binding</th>\n",
              "      <td>125.000000</td>\n",
              "      <td>NaN</td>\n",
              "      <td>NaN</td>\n",
              "      <td>122.000000</td>\n",
              "    </tr>\n",
              "    <tr>\n",
              "      <th>ebook</th>\n",
              "      <td>60.600000</td>\n",
              "      <td>NaN</td>\n",
              "      <td>0.00</td>\n",
              "      <td>57.000000</td>\n",
              "    </tr>\n",
              "  </tbody>\n",
              "</table>\n",
              "</div>\n",
              "      <button class=\"colab-df-convert\" onclick=\"convertToInteractive('df-27fb4384-2c67-46f4-b02e-6d87a923ace4')\"\n",
              "              title=\"Convert this dataframe to an interactive table.\"\n",
              "              style=\"display:none;\">\n",
              "\n",
              "  <svg xmlns=\"http://www.w3.org/2000/svg\" height=\"24px\"viewBox=\"0 0 24 24\"\n",
              "       width=\"24px\">\n",
              "    <path d=\"M0 0h24v24H0V0z\" fill=\"none\"/>\n",
              "    <path d=\"M18.56 5.44l.94 2.06.94-2.06 2.06-.94-2.06-.94-.94-2.06-.94 2.06-2.06.94zm-11 1L8.5 8.5l.94-2.06 2.06-.94-2.06-.94L8.5 2.5l-.94 2.06-2.06.94zm10 10l.94 2.06.94-2.06 2.06-.94-2.06-.94-.94-2.06-.94 2.06-2.06.94z\"/><path d=\"M17.41 7.96l-1.37-1.37c-.4-.4-.92-.59-1.43-.59-.52 0-1.04.2-1.43.59L10.3 9.45l-7.72 7.72c-.78.78-.78 2.05 0 2.83L4 21.41c.39.39.9.59 1.41.59.51 0 1.02-.2 1.41-.59l7.78-7.78 2.81-2.81c.8-.78.8-2.07 0-2.86zM5.41 20L4 18.59l7.72-7.72 1.47 1.35L5.41 20z\"/>\n",
              "  </svg>\n",
              "      </button>\n",
              "\n",
              "\n",
              "\n",
              "    <div id=\"df-03a423e9-3144-4c88-b866-bd6bc4233466\">\n",
              "      <button class=\"colab-df-quickchart\" onclick=\"quickchart('df-03a423e9-3144-4c88-b866-bd6bc4233466')\"\n",
              "              title=\"Suggest charts.\"\n",
              "              style=\"display:none;\">\n",
              "\n",
              "<svg xmlns=\"http://www.w3.org/2000/svg\" height=\"24px\"viewBox=\"0 0 24 24\"\n",
              "     width=\"24px\">\n",
              "    <g>\n",
              "        <path d=\"M19 3H5c-1.1 0-2 .9-2 2v14c0 1.1.9 2 2 2h14c1.1 0 2-.9 2-2V5c0-1.1-.9-2-2-2zM9 17H7v-7h2v7zm4 0h-2V7h2v10zm4 0h-2v-4h2v4z\"/>\n",
              "    </g>\n",
              "</svg>\n",
              "      </button>\n",
              "    </div>\n",
              "\n",
              "<style>\n",
              "  .colab-df-quickchart {\n",
              "    background-color: #E8F0FE;\n",
              "    border: none;\n",
              "    border-radius: 50%;\n",
              "    cursor: pointer;\n",
              "    display: none;\n",
              "    fill: #1967D2;\n",
              "    height: 32px;\n",
              "    padding: 0 0 0 0;\n",
              "    width: 32px;\n",
              "  }\n",
              "\n",
              "  .colab-df-quickchart:hover {\n",
              "    background-color: #E2EBFA;\n",
              "    box-shadow: 0px 1px 2px rgba(60, 64, 67, 0.3), 0px 1px 3px 1px rgba(60, 64, 67, 0.15);\n",
              "    fill: #174EA6;\n",
              "  }\n",
              "\n",
              "  [theme=dark] .colab-df-quickchart {\n",
              "    background-color: #3B4455;\n",
              "    fill: #D2E3FC;\n",
              "  }\n",
              "\n",
              "  [theme=dark] .colab-df-quickchart:hover {\n",
              "    background-color: #434B5C;\n",
              "    box-shadow: 0px 1px 3px 1px rgba(0, 0, 0, 0.15);\n",
              "    filter: drop-shadow(0px 1px 2px rgba(0, 0, 0, 0.3));\n",
              "    fill: #FFFFFF;\n",
              "  }\n",
              "</style>\n",
              "\n",
              "    <script>\n",
              "      async function quickchart(key) {\n",
              "        const containerElement = document.querySelector('#' + key);\n",
              "        const charts = await google.colab.kernel.invokeFunction(\n",
              "            'suggestCharts', [key], {});\n",
              "      }\n",
              "    </script>\n",
              "\n",
              "      <script>\n",
              "\n",
              "function displayQuickchartButton(domScope) {\n",
              "  let quickchartButtonEl =\n",
              "    domScope.querySelector('#df-03a423e9-3144-4c88-b866-bd6bc4233466 button.colab-df-quickchart');\n",
              "  quickchartButtonEl.style.display =\n",
              "    google.colab.kernel.accessAllowed ? 'block' : 'none';\n",
              "}\n",
              "\n",
              "        displayQuickchartButton(document);\n",
              "      </script>\n",
              "      <style>\n",
              "    .colab-df-container {\n",
              "      display:flex;\n",
              "      flex-wrap:wrap;\n",
              "      gap: 12px;\n",
              "    }\n",
              "\n",
              "    .colab-df-convert {\n",
              "      background-color: #E8F0FE;\n",
              "      border: none;\n",
              "      border-radius: 50%;\n",
              "      cursor: pointer;\n",
              "      display: none;\n",
              "      fill: #1967D2;\n",
              "      height: 32px;\n",
              "      padding: 0 0 0 0;\n",
              "      width: 32px;\n",
              "    }\n",
              "\n",
              "    .colab-df-convert:hover {\n",
              "      background-color: #E2EBFA;\n",
              "      box-shadow: 0px 1px 2px rgba(60, 64, 67, 0.3), 0px 1px 3px 1px rgba(60, 64, 67, 0.15);\n",
              "      fill: #174EA6;\n",
              "    }\n",
              "\n",
              "    [theme=dark] .colab-df-convert {\n",
              "      background-color: #3B4455;\n",
              "      fill: #D2E3FC;\n",
              "    }\n",
              "\n",
              "    [theme=dark] .colab-df-convert:hover {\n",
              "      background-color: #434B5C;\n",
              "      box-shadow: 0px 1px 3px 1px rgba(0, 0, 0, 0.15);\n",
              "      filter: drop-shadow(0px 1px 2px rgba(0, 0, 0, 0.3));\n",
              "      fill: #FFFFFF;\n",
              "    }\n",
              "  </style>\n",
              "\n",
              "      <script>\n",
              "        const buttonEl =\n",
              "          document.querySelector('#df-27fb4384-2c67-46f4-b02e-6d87a923ace4 button.colab-df-convert');\n",
              "        buttonEl.style.display =\n",
              "          google.colab.kernel.accessAllowed ? 'block' : 'none';\n",
              "\n",
              "        async function convertToInteractive(key) {\n",
              "          const element = document.querySelector('#df-27fb4384-2c67-46f4-b02e-6d87a923ace4');\n",
              "          const dataTable =\n",
              "            await google.colab.kernel.invokeFunction('convertToInteractive',\n",
              "                                                     [key], {});\n",
              "          if (!dataTable) return;\n",
              "\n",
              "          const docLinkHtml = 'Like what you see? Visit the ' +\n",
              "            '<a target=\"_blank\" href=https://colab.research.google.com/notebooks/data_table.ipynb>data table notebook</a>'\n",
              "            + ' to learn more about interactive tables.';\n",
              "          element.innerHTML = '';\n",
              "          dataTable['output_type'] = 'display_data';\n",
              "          await google.colab.output.renderOutput(dataTable, element);\n",
              "          const docLink = document.createElement('div');\n",
              "          docLink.innerHTML = docLinkHtml;\n",
              "          element.appendChild(docLink);\n",
              "        }\n",
              "      </script>\n",
              "    </div>\n",
              "  </div>\n"
            ]
          },
          "metadata": {},
          "execution_count": 39
        }
      ]
    },
    {
      "cell_type": "markdown",
      "source": [
        "### ⚠ Ojo: nos aparece NAN\n",
        "\n",
        "Podemos notar que hay `NaN` esto es porque no existía un valor para dicha celda. Pero Pandas tiene la solución: `fillna` se encarga de reemplazar todas esas casillas con un valor que definamos. En este caso \"0\". Además, esta función tiene el parámetro `inplace` que nos permite modificar el `dataframe` en vez de generar uno. Si ponemos `inplace=False`, deberíamos hacer:\n",
        "\n",
        "`df_pivoteado = df_pivoteado.fillna(0)`"
      ],
      "metadata": {
        "id": "D1dNXUGDA7NW"
      }
    },
    {
      "cell_type": "code",
      "source": [
        "df_pivoteado.fillna(0, inplace=True)\n",
        "df_pivoteado"
      ],
      "metadata": {
        "colab": {
          "base_uri": "https://localhost:8080/",
          "height": 269
        },
        "id": "0hAg0fTQA5cE",
        "outputId": "06bab49f-b86c-4935-96e1-480c2374400b"
      },
      "execution_count": null,
      "outputs": [
        {
          "output_type": "execute_result",
          "data": {
            "text/plain": [
              "Calificacion                Buena      Mala  Muy buena      Normal\n",
              "Type                                                              \n",
              "Boxed Set - Hardcover   36.000000  0.000000       0.00    0.000000\n",
              "Hardcover              359.237288  1.000000      28.00  270.687500\n",
              "Kindle Edition         250.833333  0.000000       0.00   20.000000\n",
              "Paperback              159.168421  1.222222      99.25   50.227273\n",
              "Unknown Binding        125.000000  0.000000       0.00  122.000000\n",
              "ebook                   60.600000  0.000000       0.00   57.000000"
            ],
            "text/html": [
              "\n",
              "\n",
              "  <div id=\"df-707a7f8b-9437-4ea4-a2d0-74a980fee09f\">\n",
              "    <div class=\"colab-df-container\">\n",
              "      <div>\n",
              "<style scoped>\n",
              "    .dataframe tbody tr th:only-of-type {\n",
              "        vertical-align: middle;\n",
              "    }\n",
              "\n",
              "    .dataframe tbody tr th {\n",
              "        vertical-align: top;\n",
              "    }\n",
              "\n",
              "    .dataframe thead th {\n",
              "        text-align: right;\n",
              "    }\n",
              "</style>\n",
              "<table border=\"1\" class=\"dataframe\">\n",
              "  <thead>\n",
              "    <tr style=\"text-align: right;\">\n",
              "      <th>Calificacion</th>\n",
              "      <th>Buena</th>\n",
              "      <th>Mala</th>\n",
              "      <th>Muy buena</th>\n",
              "      <th>Normal</th>\n",
              "    </tr>\n",
              "    <tr>\n",
              "      <th>Type</th>\n",
              "      <th></th>\n",
              "      <th></th>\n",
              "      <th></th>\n",
              "      <th></th>\n",
              "    </tr>\n",
              "  </thead>\n",
              "  <tbody>\n",
              "    <tr>\n",
              "      <th>Boxed Set - Hardcover</th>\n",
              "      <td>36.000000</td>\n",
              "      <td>0.000000</td>\n",
              "      <td>0.00</td>\n",
              "      <td>0.000000</td>\n",
              "    </tr>\n",
              "    <tr>\n",
              "      <th>Hardcover</th>\n",
              "      <td>359.237288</td>\n",
              "      <td>1.000000</td>\n",
              "      <td>28.00</td>\n",
              "      <td>270.687500</td>\n",
              "    </tr>\n",
              "    <tr>\n",
              "      <th>Kindle Edition</th>\n",
              "      <td>250.833333</td>\n",
              "      <td>0.000000</td>\n",
              "      <td>0.00</td>\n",
              "      <td>20.000000</td>\n",
              "    </tr>\n",
              "    <tr>\n",
              "      <th>Paperback</th>\n",
              "      <td>159.168421</td>\n",
              "      <td>1.222222</td>\n",
              "      <td>99.25</td>\n",
              "      <td>50.227273</td>\n",
              "    </tr>\n",
              "    <tr>\n",
              "      <th>Unknown Binding</th>\n",
              "      <td>125.000000</td>\n",
              "      <td>0.000000</td>\n",
              "      <td>0.00</td>\n",
              "      <td>122.000000</td>\n",
              "    </tr>\n",
              "    <tr>\n",
              "      <th>ebook</th>\n",
              "      <td>60.600000</td>\n",
              "      <td>0.000000</td>\n",
              "      <td>0.00</td>\n",
              "      <td>57.000000</td>\n",
              "    </tr>\n",
              "  </tbody>\n",
              "</table>\n",
              "</div>\n",
              "      <button class=\"colab-df-convert\" onclick=\"convertToInteractive('df-707a7f8b-9437-4ea4-a2d0-74a980fee09f')\"\n",
              "              title=\"Convert this dataframe to an interactive table.\"\n",
              "              style=\"display:none;\">\n",
              "\n",
              "  <svg xmlns=\"http://www.w3.org/2000/svg\" height=\"24px\"viewBox=\"0 0 24 24\"\n",
              "       width=\"24px\">\n",
              "    <path d=\"M0 0h24v24H0V0z\" fill=\"none\"/>\n",
              "    <path d=\"M18.56 5.44l.94 2.06.94-2.06 2.06-.94-2.06-.94-.94-2.06-.94 2.06-2.06.94zm-11 1L8.5 8.5l.94-2.06 2.06-.94-2.06-.94L8.5 2.5l-.94 2.06-2.06.94zm10 10l.94 2.06.94-2.06 2.06-.94-2.06-.94-.94-2.06-.94 2.06-2.06.94z\"/><path d=\"M17.41 7.96l-1.37-1.37c-.4-.4-.92-.59-1.43-.59-.52 0-1.04.2-1.43.59L10.3 9.45l-7.72 7.72c-.78.78-.78 2.05 0 2.83L4 21.41c.39.39.9.59 1.41.59.51 0 1.02-.2 1.41-.59l7.78-7.78 2.81-2.81c.8-.78.8-2.07 0-2.86zM5.41 20L4 18.59l7.72-7.72 1.47 1.35L5.41 20z\"/>\n",
              "  </svg>\n",
              "      </button>\n",
              "\n",
              "\n",
              "\n",
              "    <div id=\"df-dcf7ab12-ef78-4a66-afaf-5f9d318025d0\">\n",
              "      <button class=\"colab-df-quickchart\" onclick=\"quickchart('df-dcf7ab12-ef78-4a66-afaf-5f9d318025d0')\"\n",
              "              title=\"Suggest charts.\"\n",
              "              style=\"display:none;\">\n",
              "\n",
              "<svg xmlns=\"http://www.w3.org/2000/svg\" height=\"24px\"viewBox=\"0 0 24 24\"\n",
              "     width=\"24px\">\n",
              "    <g>\n",
              "        <path d=\"M19 3H5c-1.1 0-2 .9-2 2v14c0 1.1.9 2 2 2h14c1.1 0 2-.9 2-2V5c0-1.1-.9-2-2-2zM9 17H7v-7h2v7zm4 0h-2V7h2v10zm4 0h-2v-4h2v4z\"/>\n",
              "    </g>\n",
              "</svg>\n",
              "      </button>\n",
              "    </div>\n",
              "\n",
              "<style>\n",
              "  .colab-df-quickchart {\n",
              "    background-color: #E8F0FE;\n",
              "    border: none;\n",
              "    border-radius: 50%;\n",
              "    cursor: pointer;\n",
              "    display: none;\n",
              "    fill: #1967D2;\n",
              "    height: 32px;\n",
              "    padding: 0 0 0 0;\n",
              "    width: 32px;\n",
              "  }\n",
              "\n",
              "  .colab-df-quickchart:hover {\n",
              "    background-color: #E2EBFA;\n",
              "    box-shadow: 0px 1px 2px rgba(60, 64, 67, 0.3), 0px 1px 3px 1px rgba(60, 64, 67, 0.15);\n",
              "    fill: #174EA6;\n",
              "  }\n",
              "\n",
              "  [theme=dark] .colab-df-quickchart {\n",
              "    background-color: #3B4455;\n",
              "    fill: #D2E3FC;\n",
              "  }\n",
              "\n",
              "  [theme=dark] .colab-df-quickchart:hover {\n",
              "    background-color: #434B5C;\n",
              "    box-shadow: 0px 1px 3px 1px rgba(0, 0, 0, 0.15);\n",
              "    filter: drop-shadow(0px 1px 2px rgba(0, 0, 0, 0.3));\n",
              "    fill: #FFFFFF;\n",
              "  }\n",
              "</style>\n",
              "\n",
              "    <script>\n",
              "      async function quickchart(key) {\n",
              "        const containerElement = document.querySelector('#' + key);\n",
              "        const charts = await google.colab.kernel.invokeFunction(\n",
              "            'suggestCharts', [key], {});\n",
              "      }\n",
              "    </script>\n",
              "\n",
              "      <script>\n",
              "\n",
              "function displayQuickchartButton(domScope) {\n",
              "  let quickchartButtonEl =\n",
              "    domScope.querySelector('#df-dcf7ab12-ef78-4a66-afaf-5f9d318025d0 button.colab-df-quickchart');\n",
              "  quickchartButtonEl.style.display =\n",
              "    google.colab.kernel.accessAllowed ? 'block' : 'none';\n",
              "}\n",
              "\n",
              "        displayQuickchartButton(document);\n",
              "      </script>\n",
              "      <style>\n",
              "    .colab-df-container {\n",
              "      display:flex;\n",
              "      flex-wrap:wrap;\n",
              "      gap: 12px;\n",
              "    }\n",
              "\n",
              "    .colab-df-convert {\n",
              "      background-color: #E8F0FE;\n",
              "      border: none;\n",
              "      border-radius: 50%;\n",
              "      cursor: pointer;\n",
              "      display: none;\n",
              "      fill: #1967D2;\n",
              "      height: 32px;\n",
              "      padding: 0 0 0 0;\n",
              "      width: 32px;\n",
              "    }\n",
              "\n",
              "    .colab-df-convert:hover {\n",
              "      background-color: #E2EBFA;\n",
              "      box-shadow: 0px 1px 2px rgba(60, 64, 67, 0.3), 0px 1px 3px 1px rgba(60, 64, 67, 0.15);\n",
              "      fill: #174EA6;\n",
              "    }\n",
              "\n",
              "    [theme=dark] .colab-df-convert {\n",
              "      background-color: #3B4455;\n",
              "      fill: #D2E3FC;\n",
              "    }\n",
              "\n",
              "    [theme=dark] .colab-df-convert:hover {\n",
              "      background-color: #434B5C;\n",
              "      box-shadow: 0px 1px 3px 1px rgba(0, 0, 0, 0.15);\n",
              "      filter: drop-shadow(0px 1px 2px rgba(0, 0, 0, 0.3));\n",
              "      fill: #FFFFFF;\n",
              "    }\n",
              "  </style>\n",
              "\n",
              "      <script>\n",
              "        const buttonEl =\n",
              "          document.querySelector('#df-707a7f8b-9437-4ea4-a2d0-74a980fee09f button.colab-df-convert');\n",
              "        buttonEl.style.display =\n",
              "          google.colab.kernel.accessAllowed ? 'block' : 'none';\n",
              "\n",
              "        async function convertToInteractive(key) {\n",
              "          const element = document.querySelector('#df-707a7f8b-9437-4ea4-a2d0-74a980fee09f');\n",
              "          const dataTable =\n",
              "            await google.colab.kernel.invokeFunction('convertToInteractive',\n",
              "                                                     [key], {});\n",
              "          if (!dataTable) return;\n",
              "\n",
              "          const docLinkHtml = 'Like what you see? Visit the ' +\n",
              "            '<a target=\"_blank\" href=https://colab.research.google.com/notebooks/data_table.ipynb>data table notebook</a>'\n",
              "            + ' to learn more about interactive tables.';\n",
              "          element.innerHTML = '';\n",
              "          dataTable['output_type'] = 'display_data';\n",
              "          await google.colab.output.renderOutput(dataTable, element);\n",
              "          const docLink = document.createElement('div');\n",
              "          docLink.innerHTML = docLinkHtml;\n",
              "          element.appendChild(docLink);\n",
              "        }\n",
              "      </script>\n",
              "    </div>\n",
              "  </div>\n"
            ]
          },
          "metadata": {},
          "execution_count": 40
        }
      ]
    },
    {
      "cell_type": "markdown",
      "source": [
        "Ahora usamos la función `heatmap` de seaborn para construir el gráfico."
      ],
      "metadata": {
        "id": "BcNsuPRzA-1c"
      }
    },
    {
      "cell_type": "code",
      "source": [
        "# sns.heatmap recibe el dataset indexado y crea un mapa de calor\n",
        "ax = sns.heatmap(df_pivoteado)"
      ],
      "metadata": {
        "colab": {
          "base_uri": "https://localhost:8080/",
          "height": 542
        },
        "id": "x10fvRNaA9Vo",
        "outputId": "7753cacf-e953-4dec-eede-0573723e1084"
      },
      "execution_count": null,
      "outputs": [
        {
          "output_type": "display_data",
          "data": {
            "text/plain": [
              "<Figure size 1200x600 with 2 Axes>"
            ],
            "image/png": "[encoded data removed]"
          },
          "metadata": {}
        }
      ]
    },
    {
      "cell_type": "markdown",
      "source": [
        "Siempre es bueno poder personalizar el gráfico. En este caso vamos a hacer varias modificaciones con diversos parámetros:\n",
        "\n",
        "- `annot` específica si se escribe o no el valor en la celda.\n",
        "- `fmt` específica el formato de escritura del valor (d para valores enteros, f para decimales).\n",
        "- `annot_kws` específica argumentos para el texto de las anotaciones, como el tamaño.\n",
        "- `cmap` para definir la secuencia de colores.\n",
        "- `linewidths` para indicar un espacio entre las celdas.\n",
        "- `center` para indicar el valor central de la divergencia."
      ],
      "metadata": {
        "id": "kTilQTitBBvD"
      }
    },
    {
      "cell_type": "code",
      "source": [
        "sns.heatmap(\n",
        "    df_pivoteado,\n",
        "    annot=True,\n",
        "    fmt=\"f\",\n",
        "    annot_kws={'size': 10},\n",
        "    cmap='summer', # coolwarm\n",
        "    linewidths=.5,\n",
        "    center=200\n",
        "    )"
      ],
      "metadata": {
        "colab": {
          "base_uri": "https://localhost:8080/",
          "height": 559
        },
        "id": "cTA4O9A7BAj0",
        "outputId": "8a408751-1f5d-488e-e435-f70add285c0c"
      },
      "execution_count": null,
      "outputs": [
        {
          "output_type": "execute_result",
          "data": {
            "text/plain": [
              "<Axes: xlabel='Calificacion', ylabel='Type'>"
            ]
          },
          "metadata": {},
          "execution_count": 42
        },
        {
          "output_type": "display_data",
          "data": {
            "text/plain": [
              "<Figure size 1200x600 with 2 Axes>"
            ],
            "image/png": "[encoded data removed]"
          },
          "metadata": {}
        }
      ]
    },
    {
      "cell_type": "markdown",
      "source": [
        "# Documentación\n",
        "- Pandas: [pandas.pydata.org](https://pandas.pydata.org/docs/reference/index.html)\n",
        "- Matplotlib.pyplot: [matplotlib.org](https://matplotlib.org/stable/api/pyplot_summary.html)\n",
        "- Seaborn: [seaborn.pydata.org](https://seaborn.pydata.org/api.html)"
      ],
      "metadata": {
        "id": "XQrT9PoaBFtv"
      }
    },
    {
      "cell_type": "markdown",
      "source": [
        "# Referencias\n",
        "* Base de datos. Konstantin, T. (2021, 11 de enero). _Top 270 Computer Science / Programing Books_, Versión 2. Kaggle. Obtenido el 11 de abril, 2021 de https://www.kaggle.com/thomaskonstantin/top-270-rated-computer-science-programing-books\n",
        "* _Catálogo de Visualización de Datos_. (n.d.). Catálogo de Visualización de Datos. Obtenido el 12 de abril, 2021, de https://datavizcatalogue.com/ES/\n"
      ],
      "metadata": {
        "id": "u2x8HT7QBG1U"
      }
    }
  ]
}